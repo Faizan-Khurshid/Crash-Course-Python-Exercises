{
 "cells": [
  {
   "cell_type": "markdown",
   "metadata": {},
   "source": [
    "**6-1. Person:** Use a dictionary to store information about a person you know.\n",
    "Store their first name, last name, age, and the city in which they live. You\n",
    "should have keys such as first_name, last_name, age, and city. Print each\n",
    "piece of information stored in your dictionary."
   ]
  },
  {
   "cell_type": "code",
   "execution_count": 4,
   "metadata": {},
   "outputs": [
    {
     "name": "stdout",
     "output_type": "stream",
     "text": [
      "first_name: Muhammad Faizan\n",
      "last_name: Khurshid\n",
      "age: 21\n",
      "city: Karachi\n"
     ]
    }
   ],
   "source": [
    "person_info = {\"first_name\": \"Muhammad Faizan\", \"last_name\": \"Khurshid\", \"age\": 21, \"city\": \"Karachi\"}\n",
    "for k,v in person_info.items():\n",
    "    print(f\"{k}: {v}\")"
   ]
  },
  {
   "cell_type": "markdown",
   "metadata": {},
   "source": [
    "**6-2. Favorite Numbers:** Use a dictionary to store people’s favorite numbers.\n",
    "Think of five names, and use them as keys in your dictionary. Think of a favorite\n",
    "number for each person, and store each as a value in your dictionary. Print\n",
    "each person’s name and their favorite number. For even more fun, poll a few\n",
    "friends and get some actual data for your program."
   ]
  },
  {
   "cell_type": "code",
   "execution_count": 5,
   "metadata": {},
   "outputs": [
    {
     "name": "stdout",
     "output_type": "stream",
     "text": [
      "Faizan favorite number is 8\n",
      "Furqan favorite number is 7\n",
      "Moiz favorite number is 1\n",
      "Abdullah favorite number is 3\n"
     ]
    }
   ],
   "source": [
    "fav_nums = {\"Faizan\": 8, \"Furqan\": 7, \"Moiz\": 1, \"Abdullah\": 3}\n",
    "for person, fav_num in fav_nums.items():\n",
    "    print(f\"{person} favorite number is {fav_num}\")"
   ]
  },
  {
   "cell_type": "markdown",
   "metadata": {},
   "source": [
    "**6-3. Glossary:** A Python dictionary can be used to model an actual dictionary.\n",
    "However, to avoid confusion, let’s call it a glossary.\n",
    "- Think of five programming words you’ve learned about in the previous chapters. Use these words as the keys in your glossary, and store their meanings as values.\n",
    "- Print each word and its meaning as neatly formatted output. You might print the word followed by a colon and then its meaning, or print the word on one line and then print its meaning indented on a second line. Use the newline character (\\n) to insert a blank line between each word-meaning pair in your output."
   ]
  },
  {
   "cell_type": "code",
   "execution_count": 7,
   "metadata": {},
   "outputs": [
    {
     "name": "stdout",
     "output_type": "stream",
     "text": [
      "print: prints the provided string on console\n",
      "len: measures the length of iterable\n",
      "type: determines the type of data\n",
      "max: returns the maximum among the iterable\n",
      "min: returns the minimun among the oterable\n"
     ]
    }
   ],
   "source": [
    "glossary = {\"print\": \"prints the provided string on console\", \"len\": \"measures the length of iterable\", \n",
    "            \"type\": \"determines the type of data\", \"max\": \"returns the maximum among the iterable\",\n",
    "            \"min\": \"returns the minimun among the oterable\"\n",
    "           }\n",
    "for word, meaning in glossary.items():\n",
    "    print(f\"{word}: {meaning}\")"
   ]
  },
  {
   "cell_type": "markdown",
   "metadata": {},
   "source": [
    "**6-4. Glossary 2:** Now that you know how to loop through a dictionary, clean\n",
    "up the code from Exercise 6-3 (page 102) by replacing your series of print\n",
    "statements with a loop that runs through the dictionary’s keys and values.\n",
    "When you’re sure that your loop works, add five more Python terms to your\n",
    "glossary. When you run your program again, these new words and meanings\n",
    "should automatically be included in the output."
   ]
  },
  {
   "cell_type": "code",
   "execution_count": 8,
   "metadata": {},
   "outputs": [
    {
     "name": "stdout",
     "output_type": "stream",
     "text": [
      "print: prints the provided string on console\n",
      "len: measures the length of iterable\n",
      "type: determines the type of data\n",
      "max: returns the maximum among the iterable\n",
      "min: returns the minimun among the oterable\n"
     ]
    }
   ],
   "source": [
    "glossary = {\"print\": \"prints the provided string on console\", \"len\": \"measures the length of iterable\", \n",
    "            \"type\": \"determines the type of data\", \"max\": \"returns the maximum among the iterable\",\n",
    "            \"min\": \"returns the minimun among the oterable\"\n",
    "           }\n",
    "for word, meaning in glossary.items():\n",
    "    print(f\"{word}: {meaning}\")"
   ]
  },
  {
   "cell_type": "markdown",
   "metadata": {},
   "source": [
    "**6-5. Rivers:** Make a dictionary containing three major rivers and the country\n",
    "each river runs through. One key-value pair might be 'nile': 'egypt'.\n",
    "- Use a loop to print a sentence about each river, such as The Nile runs\n",
    "through Egypt.\n",
    "- Use a loop to print the name of each river included in the dictionary.\n",
    "- Use a loop to print the name of each country included in the dictionary."
   ]
  },
  {
   "cell_type": "code",
   "execution_count": 11,
   "metadata": {},
   "outputs": [
    {
     "name": "stdout",
     "output_type": "stream",
     "text": [
      "The Nile runs thorugh Egypt\n",
      "The Ravi runs thorugh Pakistan\n",
      "The Abc runs thorugh Xyz\n",
      "nile ravi abc \n",
      "\n",
      "egypt pakistan xyz "
     ]
    }
   ],
   "source": [
    "rivers = {\"nile\": \"egypt\", \"ravi\": \"pakistan\", \"abc\": \"xyz\"}\n",
    "for river, country in rivers.items():\n",
    "    print(f\"The {river.title()} runs thorugh {country.title()}\")\n",
    "\n",
    "for river in rivers:\n",
    "    print(river, end=\" \")\n",
    "print(\"\\n\")\n",
    "for country in rivers.values():\n",
    "    print(country, end=\" \")"
   ]
  },
  {
   "cell_type": "code",
   "execution_count": 12,
   "metadata": {},
   "outputs": [
    {
     "name": "stdout",
     "output_type": "stream",
     "text": [
      "Sarah thank you for taking the poll.\n",
      "Phil thank you for taking the poll.\n",
      "mike, please take our poll!\n",
      "anderson, please take our poll!\n"
     ]
    }
   ],
   "source": [
    "favorite_languages = {\n",
    " 'jen': 'python',\n",
    " 'sarah': 'c',\n",
    " 'edward': 'ruby',\n",
    " 'phil': 'python',\n",
    " }\n",
    "poll_students = ['sarah', 'phil', 'mike', 'anderson']\n",
    "for student in poll_students:\n",
    "    if student in favorite_languages.keys():\n",
    "        print(f\"{student.title()} thank you for taking the poll.\")\n",
    "    else:\n",
    "        print(f\"{student}, please take our poll!\")"
   ]
  },
  {
   "cell_type": "markdown",
   "metadata": {},
   "source": [
    "**6-7. People:** Start with the program you wrote for Exercise 6-1 (page 102).\n",
    "Make two new dictionaries representing different people, and store all three\n",
    "dictionaries in a list called people. Loop through your list of people. As you\n",
    "loop through the list, print everything you know about each person"
   ]
  },
  {
   "cell_type": "code",
   "execution_count": 13,
   "metadata": {},
   "outputs": [
    {
     "name": "stdout",
     "output_type": "stream",
     "text": [
      "first_name: Muhammad Faizan\n",
      "last_name: Khurshid\n",
      "age: 21\n",
      "city: Karachi\n",
      "first_name: Muhammad Furqan\n",
      "last_name: Khurshid\n",
      "age: 24\n",
      "city: Karachi\n",
      "first_name: Muhammad Uzair\n",
      "last_name: Khurshid\n",
      "age: 32\n",
      "city: Karachi\n"
     ]
    }
   ],
   "source": [
    "person_info1 = {\"first_name\": \"Muhammad Faizan\", \"last_name\": \"Khurshid\", \"age\": 21, \"city\": \"Karachi\"}\n",
    "person_info2 = {\"first_name\": \"Muhammad Furqan\", \"last_name\": \"Khurshid\", \"age\": 24, \"city\": \"Karachi\"}\n",
    "person_info3 = {\"first_name\": \"Muhammad Uzair\", \"last_name\": \"Khurshid\", \"age\": 32, \"city\": \"Karachi\"}\n",
    "people = [person_info1, person_info2, person_info3]\n",
    "for person in people:\n",
    "    for k,v in person.items():\n",
    "        print(f\"{k}: {v}\")"
   ]
  },
  {
   "cell_type": "code",
   "execution_count": null,
   "metadata": {},
   "outputs": [],
   "source": []
  }
 ],
 "metadata": {
  "kernelspec": {
   "display_name": "Python 3",
   "language": "python",
   "name": "python3"
  },
  "language_info": {
   "codemirror_mode": {
    "name": "ipython",
    "version": 3
   },
   "file_extension": ".py",
   "mimetype": "text/x-python",
   "name": "python",
   "nbconvert_exporter": "python",
   "pygments_lexer": "ipython3",
   "version": "3.7.1"
  }
 },
 "nbformat": 4,
 "nbformat_minor": 2
}
