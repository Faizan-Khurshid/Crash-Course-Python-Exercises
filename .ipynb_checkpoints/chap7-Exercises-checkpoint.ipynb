{
 "cells": [
  {
   "cell_type": "markdown",
   "metadata": {},
   "source": [
    "# Crash Course In Python"
   ]
  },
  {
   "cell_type": "markdown",
   "metadata": {},
   "source": [
    "## Chapter 7 User Inputs and While loops Exercises"
   ]
  },
  {
   "cell_type": "markdown",
   "metadata": {},
   "source": [
    "**7-1. Rental Car:** Write a program that asks the user what kind of rental car they\n",
    "would like. Print a message about that car, such as “Let me see if I can find you\n",
    "a Subaru.”"
   ]
  },
  {
   "cell_type": "code",
   "execution_count": 1,
   "metadata": {},
   "outputs": [
    {
     "name": "stdout",
     "output_type": "stream",
     "text": [
      "Enter your preferred car: Subaru\n",
      "Let me see if I can find you a Subaru.\n"
     ]
    }
   ],
   "source": [
    "car = input(\"Enter your preferred car: \")\n",
    "print(f\"Let me see if I can find you a {car}.\")"
   ]
  },
  {
   "cell_type": "markdown",
   "metadata": {},
   "source": [
    "**7-2. Restaurant Seating:** Write a program that asks the user how many people\n",
    "are in their dinner group. If the answer is more than eight, print a message saying they’ll have to wait for a table. Otherwise, report that their table is ready."
   ]
  },
  {
   "cell_type": "code",
   "execution_count": 2,
   "metadata": {},
   "outputs": [
    {
     "name": "stdout",
     "output_type": "stream",
     "text": [
      "How many people are in your dinner group? 9\n",
      "Sorry to tell you, you will have to wait for a table\n"
     ]
    }
   ],
   "source": [
    "n_guests = int(input(\"How many people are in your dinner group? \"))\n",
    "if n_guests > 8:\n",
    "    print(\"Sorry to tell you, you will have to wait for a table\")\n",
    "else:\n",
    "    print(\"Good News, a table is ready for you\")"
   ]
  },
  {
   "cell_type": "markdown",
   "metadata": {},
   "source": [
    "**7-3. Multiples of Ten:** Ask the user for a number, and then report whether the\n",
    "number is a multiple of 10 or not."
   ]
  },
  {
   "cell_type": "code",
   "execution_count": 3,
   "metadata": {},
   "outputs": [
    {
     "name": "stdout",
     "output_type": "stream",
     "text": [
      "Enter the Number: 65\n",
      "65 is not a multiple of 10\n"
     ]
    }
   ],
   "source": [
    "num = int(input(\"Enter the Number: \"))\n",
    "if(num%10 == 0):\n",
    "    print(f\"{num} is a multiple of 10\")\n",
    "else:\n",
    "    print(f\"{num} is not a multiple of 10\")"
   ]
  },
  {
   "cell_type": "markdown",
   "metadata": {},
   "source": [
    "**7-4. Pizza Toppings:** Write a loop that prompts the user to enter a series of\n",
    "pizza toppings until they enter a 'quit' value. As they enter each topping,\n",
    "print a message saying you’ll add that topping to their pizza"
   ]
  },
  {
   "cell_type": "code",
   "execution_count": 4,
   "metadata": {},
   "outputs": [
    {
     "name": "stdout",
     "output_type": "stream",
     "text": [
      "Enter the topping you want on your pizza: olives\n",
      "olives will be added to your pizza\n",
      "Enter the topping you want on your pizza: mushrooms\n",
      "mushrooms will be added to your pizza\n",
      "Enter the topping you want on your pizza: quit\n"
     ]
    }
   ],
   "source": [
    "quit = False\n",
    "toppings = []\n",
    "while not quit:\n",
    "    topping = input(\"Enter the topping you want on your pizza: \")\n",
    "    if(topping.lower() == \"quit\"):\n",
    "        quit = True\n",
    "    else:\n",
    "        toppings.append(topping)\n",
    "        print(f\"{topping} will be added to your pizza\")"
   ]
  },
  {
   "cell_type": "markdown",
   "metadata": {},
   "source": [
    "**7-5. Movie Tickets:** A movie theater charges different ticket prices depending on\n",
    "a person’s age. If a person is under the age of 3, the ticket is free; if they are\n",
    "between 3 and 12, the ticket is 10 dollars and if they are over age 12, the ticket is\n",
    "15 dollars. Write a loop in which you ask users their age, and then tell them the cost\n",
    "of their movie ticket."
   ]
  },
  {
   "cell_type": "code",
   "execution_count": null,
   "metadata": {},
   "outputs": [],
   "source": [
    "while True:\n",
    "    age = int(input(\"Enter age: \"))\n",
    "    if(age <= 3):\n",
    "        print(\"your ticket will be free\")\n",
    "    elif(age > 3 and age <= 12):\n",
    "        print(\"your ticket price will be $10\")\n",
    "    else:\n",
    "        print(\"your ticket price will be $15\")"
   ]
  },
  {
   "cell_type": "markdown",
   "metadata": {},
   "source": [
    "**7-6. Three Exits:** Write different versions of either Exercise 7-4 or Exercise 7-5\n",
    "that do each of the following at least once:\n",
    "- Use a conditional test in the while statement to stop the loop."
   ]
  },
  {
   "cell_type": "code",
   "execution_count": 4,
   "metadata": {},
   "outputs": [
    {
     "name": "stdout",
     "output_type": "stream",
     "text": [
      "Enter age: 5\n",
      "your ticket price will be $10\n",
      "Enter age: stop\n"
     ]
    }
   ],
   "source": [
    "stop = False\n",
    "while not stop:\n",
    "    age = input(\"Enter age: \")\n",
    "    if age.lower() == \"stop\":\n",
    "        stop = True\n",
    "    else:\n",
    "        if(int(age) <= 3):\n",
    "            print(\"your ticket will be free\")\n",
    "        elif(int(age) > 3 and int(age) <= 12):\n",
    "            print(\"your ticket price will be $10\")\n",
    "        else:\n",
    "            print(\"your ticket price will be $15\")"
   ]
  },
  {
   "cell_type": "markdown",
   "metadata": {},
   "source": [
    "- Use an active variable to control how long the loop runs."
   ]
  },
  {
   "cell_type": "code",
   "execution_count": 5,
   "metadata": {},
   "outputs": [
    {
     "name": "stdout",
     "output_type": "stream",
     "text": [
      "Enter age: 6\n",
      "your ticket price will be $10\n",
      "Enter age: 3\n",
      "your ticket will be free\n",
      "Enter age: 2\n",
      "your ticket will be free\n",
      "Enter age: 9\n",
      "your ticket price will be $10\n",
      "Enter age: 14\n",
      "your ticket price will be $15\n"
     ]
    }
   ],
   "source": [
    "count = 0\n",
    "while count < 5:\n",
    "    age = input(\"Enter age: \")\n",
    "    count += 1\n",
    "    if(int(age) <= 3):\n",
    "        print(\"your ticket will be free\")\n",
    "    elif(int(age) > 3 and int(age) <= 12):\n",
    "        print(\"your ticket price will be $10\")\n",
    "    else:\n",
    "        print(\"your ticket price will be $15\")"
   ]
  },
  {
   "cell_type": "markdown",
   "metadata": {},
   "source": [
    "- Use a break statement to exit the loop when the user enters a 'quit' value"
   ]
  },
  {
   "cell_type": "code",
   "execution_count": 6,
   "metadata": {},
   "outputs": [
    {
     "name": "stdout",
     "output_type": "stream",
     "text": [
      "Enter age: 14\n",
      "your ticket price will be $15\n",
      "Enter age: stop\n"
     ]
    }
   ],
   "source": [
    "while True:\n",
    "    age = input(\"Enter age: \")\n",
    "    if age.lower() == \"stop\":\n",
    "        break\n",
    "    else:\n",
    "        if(int(age) <= 3):\n",
    "            print(\"your ticket will be free\")\n",
    "        elif(int(age) > 3 and int(age) <= 12):\n",
    "            print(\"your ticket price will be $10\")\n",
    "        else:\n",
    "            print(\"your ticket price will be $15\")"
   ]
  },
  {
   "cell_type": "markdown",
   "metadata": {},
   "source": [
    "**7-7. Infinity:** Write a loop that never ends, and run it. (To end the loop, press\n",
    "ctrl-C or close the window displaying the output.)"
   ]
  },
  {
   "cell_type": "code",
   "execution_count": null,
   "metadata": {},
   "outputs": [],
   "source": [
    "while True:\n",
    "    print(\"please don't run me\")"
   ]
  },
  {
   "cell_type": "markdown",
   "metadata": {},
   "source": [
    "**7-8. Deli:** Make a list called sandwich_orders and fill it with the names of various sandwiches. Then make an empty list called finished_sandwiches. Loop\n",
    "through the list of sandwich orders and print a message for each order, such\n",
    "as I made your tuna sandwich. As each sandwich is made, move it to the list\n",
    "of finished sandwiches. After all the sandwiches have been made, print a\n",
    "message listing each sandwich that was made."
   ]
  },
  {
   "cell_type": "code",
   "execution_count": 8,
   "metadata": {},
   "outputs": [
    {
     "name": "stdout",
     "output_type": "stream",
     "text": [
      "I made your Beef Sandwiches sandwich\n",
      "I made your Cheese Sandwiches sandwich\n",
      "I made your Grilled Cheese Sandwiches sandwich\n",
      "I made your Chicken Sandwiches sandwich\n",
      "I made your Ham Sandwiches sandwich\n",
      "I made your Pork Sandwiches sandwich\n",
      "I made your Tuna Sandwiches sandwich\n",
      "I made your Turkey Sandwiches sandwich\n",
      "\n",
      "Following sandwiches are made: ['Beef Sandwiches', 'Cheese Sandwiches', 'Grilled Cheese Sandwiches', 'Chicken Sandwiches', 'Ham Sandwiches', 'Pork Sandwiches', 'Tuna Sandwiches', 'Turkey Sandwiches']\n"
     ]
    }
   ],
   "source": [
    "sandwich_orders = [\"Beef Sandwiches\", \"Cheese Sandwiches\", \"Grilled Cheese Sandwiches\", \"Chicken Sandwiches\", \n",
    "                   \"Ham Sandwiches\", \"Pork Sandwiches\", \"Tuna Sandwiches\", \"Turkey Sandwiches\"]\n",
    "finished_sandwiches = []\n",
    "for sandwich in sandwich_orders:\n",
    "    finished_sandwiches.append(sandwich)\n",
    "    print(f\"I made your {sandwich} sandwich\")\n",
    "print(f\"\\nFollowing sandwiches are made: {finished_sandwiches}\")"
   ]
  },
  {
   "cell_type": "markdown",
   "metadata": {},
   "source": [
    "**7-9. No Pastrami:** Using the list sandwich_orders from Exercise 7-8, make sure\n",
    "the sandwich 'pastrami' appears in the list at least three times. Add code\n",
    "near the beginning of your program to print a message saying the deli has\n",
    "run out of pastrami, and then use a while loop to remove all occurrences of\n",
    "'pastrami' from sandwich_orders. Make sure no pastrami sandwiches end up\n",
    "in finished_sandwiches.\n"
   ]
  },
  {
   "cell_type": "code",
   "execution_count": 9,
   "metadata": {},
   "outputs": [
    {
     "name": "stdout",
     "output_type": "stream",
     "text": [
      "Deli has run out of pastrami\n",
      "I made your Beef Sandwiches sandwich\n",
      "I made your Cheese Sandwiches sandwich\n",
      "I made your Grilled Cheese Sandwiches sandwich\n",
      "I made your Chicken Sandwiches sandwich\n",
      "I made your Ham Sandwiches sandwich\n",
      "I made your Pork Sandwiches sandwich\n",
      "I made your Tuna Sandwiches sandwich\n",
      "I made your Turkey Sandwiches sandwich\n",
      "\n",
      "Following sandwiches are made: ['Beef Sandwiches', 'Cheese Sandwiches', 'Grilled Cheese Sandwiches', 'Chicken Sandwiches', 'Ham Sandwiches', 'Pork Sandwiches', 'Tuna Sandwiches', 'Turkey Sandwiches']\n"
     ]
    }
   ],
   "source": [
    "print(\"Deli has run out of pastrami\")\n",
    "sandwich_orders = [\"Beef Sandwiches\", \"Cheese Sandwiches\", 'pastrami', \"Grilled Cheese Sandwiches\", 'pastrami',\n",
    "                   \"Chicken Sandwiches\", \"Ham Sandwiches\", \"Pork Sandwiches\", 'pastrami',\n",
    "                   \"Tuna Sandwiches\", \"Turkey Sandwiches\"]\n",
    "while 'pastrami' in sandwich_orders:\n",
    "    sandwich_orders.remove('pastrami')\n",
    "\n",
    "finished_sandwiches = []\n",
    "for sandwich in sandwich_orders:\n",
    "    finished_sandwiches.append(sandwich)\n",
    "    print(f\"I made your {sandwich} sandwich\")\n",
    "print(f\"\\nFollowing sandwiches are made: {finished_sandwiches}\")"
   ]
  },
  {
   "cell_type": "markdown",
   "metadata": {},
   "source": [
    "**7-10. Dream Vacation:** Write a program that polls users about their dream\n",
    "vacation. Write a prompt similar to If you could visit one place in the world,\n",
    "where would you go? Include a block of code that prints the results of the poll"
   ]
  },
  {
   "cell_type": "code",
   "execution_count": 3,
   "metadata": {},
   "outputs": [
    {
     "name": "stdout",
     "output_type": "stream",
     "text": [
      "If you could visit one place in the world, where would you go? Kashmir\n",
      "If you could visit one place in the world, where would you go? Switzerland\n",
      "If you could visit one place in the world, where would you go? Paris\n",
      "If you could visit one place in the world, where would you go? London\n",
      "If you could visit one place in the world, where would you go? Kashmir\n",
      "If you could visit one place in the world, where would you go? Switzerland\n",
      "If you could visit one place in the world, where would you go? Kashmir\n",
      "If you could visit one place in the world, where would you go? Kashmir\n",
      "If you could visit one place in the world, where would you go? London\n",
      "If you could visit one place in the world, where would you go? Switzerland\n",
      "-----Poll Result-----\n",
      "Kashmir: 4\n",
      "Switzerland: 3\n",
      "London: 2\n",
      "Paris: 1\n"
     ]
    }
   ],
   "source": [
    "def return_val(dict_item):\n",
    "    return dict_item[1]\n",
    "    \n",
    "dream_place_poll = {}\n",
    "for i in range(10):\n",
    "    dream_place = input(\"If you could visit one place in the world, where would you go? \").lower()\n",
    "    if(dream_place_poll.get(dream_place)):\n",
    "        dream_place_poll[dream_place] += 1\n",
    "    else:\n",
    "        dream_place_poll[dream_place] = 1\n",
    "# this code sorts the oll result\n",
    "sort_poll = {item[0]: item[1] for item in sorted(dream_place_poll.items(), key=return_val, reverse=True)} \n",
    "\n",
    "print(\"-----Poll Result-----\")\n",
    "for place, count in sort_poll.items():\n",
    "    print(f\"{place.title()}: {count}\")"
   ]
  },
  {
   "cell_type": "code",
   "execution_count": null,
   "metadata": {},
   "outputs": [],
   "source": []
  }
 ],
 "metadata": {
  "kernelspec": {
   "display_name": "Python 3",
   "language": "python",
   "name": "python3"
  },
  "language_info": {
   "codemirror_mode": {
    "name": "ipython",
    "version": 3
   },
   "file_extension": ".py",
   "mimetype": "text/x-python",
   "name": "python",
   "nbconvert_exporter": "python",
   "pygments_lexer": "ipython3",
   "version": "3.7.1"
  }
 },
 "nbformat": 4,
 "nbformat_minor": 2
}
