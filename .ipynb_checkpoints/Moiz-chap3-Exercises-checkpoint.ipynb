{
 "cells": [
  {
   "cell_type": "markdown",
   "metadata": {},
   "source": [
    "# abdul moiz assigement"
   ]
  },
  {
   "cell_type": "markdown",
   "metadata": {},
   "source": [
    "# note book"
   ]
  },
  {
   "cell_type": "markdown",
   "metadata": {},
   "source": [
    "# excecise"
   ]
  },
  {
   "cell_type": "markdown",
   "metadata": {},
   "source": [
    "# chapter no 3"
   ]
  },
  {
   "cell_type": "markdown",
   "metadata": {},
   "source": [
    "# 3.1"
   ]
  },
  {
   "cell_type": "markdown",
   "metadata": {},
   "source": [
    "3-1. Names: Store the names of a few of your friends in a list called names. Print\n",
    "each person’s name by accessing each element in the list, one at a time."
   ]
  },
  {
   "cell_type": "code",
   "execution_count": 1,
   "metadata": {},
   "outputs": [],
   "source": [
    "persons_name = ['faizan', 'rizwan', 'ebad-ur-rehman']"
   ]
  },
  {
   "cell_type": "code",
   "execution_count": 2,
   "metadata": {},
   "outputs": [
    {
     "name": "stdout",
     "output_type": "stream",
     "text": [
      "faizan\n",
      "rizwan\n",
      "ebad-ur-rehman\n"
     ]
    }
   ],
   "source": [
    "print(persons_name[0])\n",
    "print(persons_name[1])\n",
    "print(persons_name[2])"
   ]
  },
  {
   "cell_type": "markdown",
   "metadata": {},
   "source": [
    "# 3.2"
   ]
  },
  {
   "cell_type": "markdown",
   "metadata": {},
   "source": [
    "3-2. Greetings: Start with the list you used in Exercise 3-1, but instead of just\n",
    "printing each person’s name, print a message to them. The text of each message should be the same, but each message should be personalized with the\n",
    "person’s name."
   ]
  },
  {
   "cell_type": "code",
   "execution_count": 3,
   "metadata": {
    "scrolled": true
   },
   "outputs": [
    {
     "name": "stdout",
     "output_type": "stream",
     "text": [
      "my group members,Faizan .\n",
      "my group members,Rizwan .\n",
      "my group member,Ebad-Ur-Rehman .\n"
     ]
    }
   ],
   "source": [
    "persons_name = ['faizan', 'rizwan', 'ebad-ur-rehman']\n",
    "message=f\"my group members,{persons_name[0].title()} .\"\n",
    "print(message)\n",
    "message=f\"my group members,{persons_name[1].title()} .\"\n",
    "print(message)\n",
    "message=f\"my group member,{persons_name[2].title()} .\"\n",
    "print(message)\n"
   ]
  },
  {
   "cell_type": "markdown",
   "metadata": {},
   "source": [
    "# 3.3"
   ]
  },
  {
   "cell_type": "markdown",
   "metadata": {},
   "source": [
    "3-3. Your Own List: Think of your favorite mode of transportation, such as a\n",
    "motorcycle or a car, and make a list that stores several examples. Use your list\n",
    "to print a series of statements about these items, such as “I would like to own a\n",
    "Honda motorcycle.”\n"
   ]
  },
  {
   "cell_type": "code",
   "execution_count": 4,
   "metadata": {},
   "outputs": [],
   "source": [
    "motor_cycle=[\"honda\", 'yamaha', 'suzuki', \"cafe_racer\"]"
   ]
  },
  {
   "cell_type": "code",
   "execution_count": 5,
   "metadata": {},
   "outputs": [
    {
     "name": "stdout",
     "output_type": "stream",
     "text": [
      "i would like to own a honda motorcycle\n",
      "i would like to own a yamaha motorcycle\n",
      "i would like to own a suzuki motorcycle\n",
      "i would like to own a cafe_racer motorcycle\n"
     ]
    }
   ],
   "source": [
    "print(f\"i would like to own a {motor_cycle[0]} motorcycle\")\n",
    "print(f\"i would like to own a {motor_cycle[1]} motorcycle\")\n",
    "print(f\"i would like to own a {motor_cycle[2]} motorcycle\")\n",
    "print(f\"i would like to own a {motor_cycle[3]} motorcycle\")"
   ]
  },
  {
   "cell_type": "markdown",
   "metadata": {},
   "source": [
    "# 3.4"
   ]
  },
  {
   "cell_type": "markdown",
   "metadata": {},
   "source": [
    "3-4. Guest List: If you could invite anyone, living or deceased, to dinner, who\n",
    "would you invite? Make a list that includes at least three people you’d like to\n",
    "invite to dinner. Then use your list to print a message to each person, inviting\n",
    "them to dinner.\n"
   ]
  },
  {
   "cell_type": "code",
   "execution_count": 6,
   "metadata": {},
   "outputs": [],
   "source": [
    "guest=[\"rizwan\",\"ubaid\",\"abdullah\"]"
   ]
  },
  {
   "cell_type": "code",
   "execution_count": 7,
   "metadata": {},
   "outputs": [
    {
     "name": "stdout",
     "output_type": "stream",
     "text": [
      "Rizwan please come to dinner\n"
     ]
    }
   ],
   "source": [
    "print(f\"{guest[0].title()} please come to dinner\")"
   ]
  },
  {
   "cell_type": "code",
   "execution_count": 8,
   "metadata": {},
   "outputs": [
    {
     "name": "stdout",
     "output_type": "stream",
     "text": [
      "Ubaid please come to dinner\n",
      "Abdullah please come to dinner\n"
     ]
    }
   ],
   "source": [
    "name=guest[1].title()\n",
    "print(f\"{name} please come to dinner\")\n",
    "name=guest[2].title()\n",
    "print(f\"{name} please come to dinner\")"
   ]
  },
  {
   "cell_type": "markdown",
   "metadata": {},
   "source": [
    "# 3.5"
   ]
  },
  {
   "cell_type": "markdown",
   "metadata": {},
   "source": [
    "3-5. Changing Guest List: You just heard that one of your guests can’t make the\n",
    "dinner, so you need to send out a new set of invitations. You’ll have to think of\n",
    "someone else to invite.\n",
    "\n",
    "•\t Start with your program from Exercise 3-4. Add a print statement at the\n",
    "end of your program stating the name of the guest who can’t make it.\n",
    "\n",
    "•\t Modify your list, replacing the name of the guest who can’t make it with\n",
    "the name of the new person you are inviting.\n",
    "\n",
    "•\t Print a second set of invitation messages, one for each person who is still\n",
    "in your list."
   ]
  },
  {
   "cell_type": "code",
   "execution_count": 9,
   "metadata": {},
   "outputs": [],
   "source": [
    "guest=[\"rizwan\",\"ubaid\",\"abdullah\"]"
   ]
  },
  {
   "cell_type": "code",
   "execution_count": 10,
   "metadata": {},
   "outputs": [
    {
     "name": "stdout",
     "output_type": "stream",
     "text": [
      "Rizwan please come to dinner\n",
      "Ubaid please come to dinner\n",
      "Abdullah please come to dinner\n"
     ]
    }
   ],
   "source": [
    "print(f\"{guest[0].title()} please come to dinner\")\n",
    "name=guest[1].title()\n",
    "print(f\"{name} please come to dinner\")\n",
    "name=guest[2].title()\n",
    "print(f\"{name} please come to dinner\")"
   ]
  },
  {
   "cell_type": "code",
   "execution_count": 11,
   "metadata": {},
   "outputs": [
    {
     "name": "stdout",
     "output_type": "stream",
     "text": [
      "Rizwan sorry i can't make it dinner \n"
     ]
    }
   ],
   "source": [
    "print(f\"{guest[0].title()} sorry i can't make it dinner \")"
   ]
  },
  {
   "cell_type": "code",
   "execution_count": 12,
   "metadata": {},
   "outputs": [],
   "source": [
    "del guest[1]"
   ]
  },
  {
   "cell_type": "code",
   "execution_count": 13,
   "metadata": {},
   "outputs": [
    {
     "name": "stdout",
     "output_type": "stream",
     "text": [
      "['rizwan', 'abdullah']\n"
     ]
    }
   ],
   "source": [
    "print(guest)"
   ]
  },
  {
   "cell_type": "code",
   "execution_count": 14,
   "metadata": {},
   "outputs": [],
   "source": [
    "guest.insert(1,\"faizan\")"
   ]
  },
  {
   "cell_type": "code",
   "execution_count": 15,
   "metadata": {},
   "outputs": [
    {
     "data": {
      "text/plain": [
       "['rizwan', 'faizan', 'abdullah']"
      ]
     },
     "execution_count": 15,
     "metadata": {},
     "output_type": "execute_result"
    }
   ],
   "source": [
    "guest"
   ]
  },
  {
   "cell_type": "markdown",
   "metadata": {},
   "source": [
    "# 3.6"
   ]
  },
  {
   "cell_type": "markdown",
   "metadata": {},
   "source": [
    "3-6. More Guests: You just found a bigger dinner table, so now more space is\n",
    "available. Think of three more guests to invite to dinner.\n",
    "\n",
    "•\t Start with your program from Exercise 3-4 or Exercise 3-5. Add a print\n",
    "statement to the end of your program informing people that you found a\n",
    "bigger dinner table.\n",
    "\n",
    "•\t Use insert() to add one new guest to the beginning of your list.\n",
    "\n",
    "•\t Use insert() to add one new guest to the middle of your list.\n",
    "\n",
    "•\t Use append() to add one new guest to the end of your list.\n",
    "\n",
    "•\t Print a new set of invitation messages, one for each person in your list."
   ]
  },
  {
   "cell_type": "code",
   "execution_count": null,
   "metadata": {},
   "outputs": [],
   "source": []
  },
  {
   "cell_type": "code",
   "execution_count": 16,
   "metadata": {},
   "outputs": [
    {
     "name": "stdout",
     "output_type": "stream",
     "text": [
      "Rizwan i found a bigger table\n",
      "Faizan i found a bigger table\n",
      "Abdullah i found a bigger table\n"
     ]
    }
   ],
   "source": [
    "mess=guest[0].title()\n",
    "print(f\"{mess} i found a bigger table\")\n",
    "mess=guest[1].title()\n",
    "print(f\"{mess} i found a bigger table\")\n",
    "mess=guest[2].title()\n",
    "print(f\"{mess} i found a bigger table\")"
   ]
  },
  {
   "cell_type": "code",
   "execution_count": 17,
   "metadata": {},
   "outputs": [
    {
     "data": {
      "text/plain": [
       "['rizwan', 'faizan', 'abdullah']"
      ]
     },
     "execution_count": 17,
     "metadata": {},
     "output_type": "execute_result"
    }
   ],
   "source": [
    "guest"
   ]
  },
  {
   "cell_type": "code",
   "execution_count": 18,
   "metadata": {},
   "outputs": [],
   "source": [
    "guest.insert(3,\"shazaib\")\n",
    "guest.insert(4,\"rahemm\")\n",
    "guest.append(\"ahmad\")"
   ]
  },
  {
   "cell_type": "code",
   "execution_count": 19,
   "metadata": {},
   "outputs": [
    {
     "data": {
      "text/plain": [
       "['rizwan', 'faizan', 'abdullah', 'shazaib', 'rahemm', 'ahmad']"
      ]
     },
     "execution_count": 19,
     "metadata": {},
     "output_type": "execute_result"
    }
   ],
   "source": [
    "guest"
   ]
  },
  {
   "cell_type": "markdown",
   "metadata": {},
   "source": [
    "# 3.7"
   ]
  },
  {
   "cell_type": "markdown",
   "metadata": {},
   "source": [
    "3-7. Shrinking Guest List: You just found out that your new dinner table won’t\n",
    "arrive in time for the dinner, and you have space for only two guests.\n",
    "\n",
    "•\t Start with your program from Exercise 3-6. Add a new line that prints a\n",
    "message saying that you can invite only two people for dinner.\n",
    "\n",
    "•\t Use pop() to remove guests from your list one at a time until only two\n",
    "names remain in your list. Each time you pop a name from your list, print\n",
    "a message to that person letting them know you’re sorry you can’t invite\n",
    "them to dinner.\n",
    "\n",
    "•\t Print a message to each of the two people still on your list, letting them\n",
    "know they’re still invited.\n",
    "\n",
    "•\t Use del to remove the last two names from your list, so you have an empty\n",
    "list. Print your list to make sure you actually have an empty list at the end\n",
    "of your program."
   ]
  },
  {
   "cell_type": "code",
   "execution_count": 20,
   "metadata": {},
   "outputs": [
    {
     "name": "stdout",
     "output_type": "stream",
     "text": [
      "['rizwan', 'faizan', 'abdullah', 'shazaib', 'rahemm', 'ahmad']\n",
      "\n",
      "sorry i can invite only two people to dinner\n"
     ]
    }
   ],
   "source": [
    "print(guest)\n",
    "print(\"\\nsorry i can invite only two people to dinner\")"
   ]
  },
  {
   "cell_type": "code",
   "execution_count": 21,
   "metadata": {},
   "outputs": [
    {
     "name": "stdout",
     "output_type": "stream",
     "text": [
      "soory ahmad you cant invite them to dinner\n"
     ]
    }
   ],
   "source": [
    "gues_pop=guest.pop()\n",
    "print(f\"soory {gues_pop} you cant invite them to dinner\")"
   ]
  },
  {
   "cell_type": "code",
   "execution_count": 22,
   "metadata": {},
   "outputs": [
    {
     "name": "stdout",
     "output_type": "stream",
     "text": [
      "soory rahemm you cant invite them to dinner\n"
     ]
    }
   ],
   "source": [
    "gues_pop=guest.pop()\n",
    "print(f\"soory {gues_pop} you cant invite them to dinner\")"
   ]
  },
  {
   "cell_type": "code",
   "execution_count": 23,
   "metadata": {},
   "outputs": [
    {
     "name": "stdout",
     "output_type": "stream",
     "text": [
      "soory shazaib you cant invite them to dinner\n"
     ]
    }
   ],
   "source": [
    "gues_pop=guest.pop()\n",
    "print(f\"soory {gues_pop} you cant invite them to dinner\")"
   ]
  },
  {
   "cell_type": "code",
   "execution_count": 24,
   "metadata": {},
   "outputs": [
    {
     "name": "stdout",
     "output_type": "stream",
     "text": [
      "soory abdullah you cant invite them to dinner\n"
     ]
    }
   ],
   "source": [
    "gues_pop=guest.pop()\n",
    "print(f\"soory {gues_pop} you cant invite them to dinner\")"
   ]
  },
  {
   "cell_type": "code",
   "execution_count": 25,
   "metadata": {},
   "outputs": [
    {
     "data": {
      "text/plain": [
       "['rizwan', 'faizan']"
      ]
     },
     "execution_count": 25,
     "metadata": {},
     "output_type": "execute_result"
    }
   ],
   "source": [
    "guest"
   ]
  },
  {
   "cell_type": "code",
   "execution_count": 26,
   "metadata": {},
   "outputs": [
    {
     "name": "stdout",
     "output_type": "stream",
     "text": [
      "know mr Rizwan stil you are invited\n"
     ]
    }
   ],
   "source": [
    "inviter=guest[0].title()\n",
    "print(f\"know mr {inviter} stil you are invited\")"
   ]
  },
  {
   "cell_type": "code",
   "execution_count": 27,
   "metadata": {},
   "outputs": [
    {
     "name": "stdout",
     "output_type": "stream",
     "text": [
      "know mr Faizan stil you are invited\n"
     ]
    }
   ],
   "source": [
    "inviter=guest[1].title()\n",
    "print(f\"know mr {inviter} stil you are invited\")"
   ]
  },
  {
   "cell_type": "code",
   "execution_count": 28,
   "metadata": {},
   "outputs": [],
   "source": [
    "del guest[0]"
   ]
  },
  {
   "cell_type": "code",
   "execution_count": 29,
   "metadata": {},
   "outputs": [],
   "source": [
    "del guest[0]"
   ]
  },
  {
   "cell_type": "code",
   "execution_count": 30,
   "metadata": {},
   "outputs": [
    {
     "name": "stdout",
     "output_type": "stream",
     "text": [
      "[]\n"
     ]
    }
   ],
   "source": [
    "print(guest)"
   ]
  },
  {
   "cell_type": "markdown",
   "metadata": {},
   "source": [
    "# 3.8"
   ]
  },
  {
   "cell_type": "markdown",
   "metadata": {},
   "source": [
    "3-8. Seeing the World: Think of at least five places in the world you’d like to\n",
    "visit.\n",
    "\n",
    "•\t Store the locations in a list. Make sure the list is not in alphabetical order.\n",
    "\n",
    "•\t Print your list in its original order. Don’t worry about printing the list neatly,\n",
    "just print it as a raw Python list.\n",
    "\n",
    "•\t Use sorted() to print your list in alphabetical order without modifying the\n",
    "actual list.\n",
    "\n",
    "•\t Show that your list is still in its original order by printing it.\n",
    "\n",
    "•\t Use sorted() to print your list in reverse alphabetical order without changing the order of the original list.\n",
    "\n",
    "•\t Show that your list is still in its original order by printing it again.\n",
    "\n",
    "•\t Use reverse() to change the order of your list. Print the list to show that its\n",
    "order has changed.\n",
    "\n",
    "•\t Use reverse() to change the order of your list again. Print the list to show\n",
    "it’s back to its original order.\n",
    "\n",
    "•\t Use sort() to change your list so it’s stored in alphabetical order. Print the\n",
    "list to show that its order has been changed.\n",
    "\n",
    "•\t Use sort() to change your list so it’s stored in reverse alphabetical order.\n",
    "Print the list to show that its order has changed."
   ]
  },
  {
   "cell_type": "code",
   "execution_count": 31,
   "metadata": {},
   "outputs": [],
   "source": [
    "location=['south_africa','maldeep','saudia_arabia','dubai','egypt_basra']"
   ]
  },
  {
   "cell_type": "code",
   "execution_count": 32,
   "metadata": {},
   "outputs": [
    {
     "name": "stdout",
     "output_type": "stream",
     "text": [
      "['south_africa', 'maldeep', 'saudia_arabia', 'dubai', 'egypt_basra']\n"
     ]
    }
   ],
   "source": [
    "print(location)"
   ]
  },
  {
   "cell_type": "code",
   "execution_count": 33,
   "metadata": {},
   "outputs": [
    {
     "name": "stdout",
     "output_type": "stream",
     "text": [
      "['dubai', 'egypt_basra', 'maldeep', 'saudia_arabia', 'south_africa']\n"
     ]
    }
   ],
   "source": [
    "print(sorted(location))"
   ]
  },
  {
   "cell_type": "code",
   "execution_count": 34,
   "metadata": {},
   "outputs": [
    {
     "name": "stdout",
     "output_type": "stream",
     "text": [
      "['south_africa', 'maldeep', 'saudia_arabia', 'dubai', 'egypt_basra']\n"
     ]
    }
   ],
   "source": [
    "print(location)"
   ]
  },
  {
   "cell_type": "code",
   "execution_count": 35,
   "metadata": {},
   "outputs": [
    {
     "name": "stdout",
     "output_type": "stream",
     "text": [
      "['south_africa', 'saudia_arabia', 'maldeep', 'egypt_basra', 'dubai']\n"
     ]
    }
   ],
   "source": [
    "print(sorted(location,reverse=True))"
   ]
  },
  {
   "cell_type": "code",
   "execution_count": 36,
   "metadata": {},
   "outputs": [
    {
     "name": "stdout",
     "output_type": "stream",
     "text": [
      "['south_africa', 'maldeep', 'saudia_arabia', 'dubai', 'egypt_basra']\n"
     ]
    }
   ],
   "source": [
    "print(location)"
   ]
  },
  {
   "cell_type": "code",
   "execution_count": 37,
   "metadata": {},
   "outputs": [],
   "source": [
    "location.reverse()"
   ]
  },
  {
   "cell_type": "code",
   "execution_count": 38,
   "metadata": {},
   "outputs": [
    {
     "name": "stdout",
     "output_type": "stream",
     "text": [
      "['egypt_basra', 'dubai', 'saudia_arabia', 'maldeep', 'south_africa']\n"
     ]
    }
   ],
   "source": [
    "print(location)"
   ]
  },
  {
   "cell_type": "code",
   "execution_count": 39,
   "metadata": {},
   "outputs": [
    {
     "name": "stdout",
     "output_type": "stream",
     "text": [
      "['south_africa', 'maldeep', 'saudia_arabia', 'dubai', 'egypt_basra']\n"
     ]
    }
   ],
   "source": [
    "location.reverse()\n",
    "print(location)"
   ]
  },
  {
   "cell_type": "code",
   "execution_count": 40,
   "metadata": {},
   "outputs": [],
   "source": [
    "location.sort()"
   ]
  },
  {
   "cell_type": "code",
   "execution_count": 41,
   "metadata": {},
   "outputs": [
    {
     "name": "stdout",
     "output_type": "stream",
     "text": [
      "['dubai', 'egypt_basra', 'maldeep', 'saudia_arabia', 'south_africa']\n"
     ]
    }
   ],
   "source": [
    "print(location)"
   ]
  },
  {
   "cell_type": "code",
   "execution_count": 42,
   "metadata": {},
   "outputs": [],
   "source": [
    "location.sort(reverse=True)"
   ]
  },
  {
   "cell_type": "code",
   "execution_count": 43,
   "metadata": {},
   "outputs": [
    {
     "name": "stdout",
     "output_type": "stream",
     "text": [
      "['south_africa', 'saudia_arabia', 'maldeep', 'egypt_basra', 'dubai']\n"
     ]
    }
   ],
   "source": [
    "print(location)"
   ]
  },
  {
   "cell_type": "markdown",
   "metadata": {},
   "source": [
    "# 3.9"
   ]
  },
  {
   "cell_type": "markdown",
   "metadata": {},
   "source": [
    "3-9. Dinner Guests: Working with one of the programs from Exercises 3-4\n",
    "through 3-7 (page 46), use len() to print a message indicating the number\n",
    "of people you are inviting to dinner."
   ]
  },
  {
   "cell_type": "code",
   "execution_count": 42,
   "metadata": {},
   "outputs": [],
   "source": [
    "guests=[\"rizwan\",\"ubaid\",\"abdullah\"]"
   ]
  },
  {
   "cell_type": "code",
   "execution_count": 43,
   "metadata": {},
   "outputs": [
    {
     "data": {
      "text/plain": [
       "3"
      ]
     },
     "execution_count": 43,
     "metadata": {},
     "output_type": "execute_result"
    }
   ],
   "source": [
    "len(guests)"
   ]
  },
  {
   "cell_type": "code",
   "execution_count": 44,
   "metadata": {},
   "outputs": [
    {
     "name": "stdout",
     "output_type": "stream",
     "text": [
      "you 3 are invited to dinner\n"
     ]
    }
   ],
   "source": [
    "print(f\"you {len(guests)} are invited to dinner\")"
   ]
  },
  {
   "cell_type": "markdown",
   "metadata": {},
   "source": [
    "# 3.10"
   ]
  },
  {
   "cell_type": "markdown",
   "metadata": {},
   "source": [
    "3_10 Every Function: Think of something you could store in a list. For example,\n",
    "\n",
    "you could make a list of mountains, rivers, countries, cities, languages, or anything else you’d like. Write a program that creates a list containing these items\n",
    "\n",
    "and then uses each function introduced in this chapter at least once."
   ]
  },
  {
   "cell_type": "code",
   "execution_count": 1,
   "metadata": {},
   "outputs": [],
   "source": [
    "lists=[\"Mount Everest\",\"Matterhorn\",\"K2\",\"Mountains of Banff\",\"Mount Kailash \"]"
   ]
  },
  {
   "cell_type": "code",
   "execution_count": 6,
   "metadata": {},
   "outputs": [
    {
     "name": "stdout",
     "output_type": "stream",
     "text": [
      "Matterhorn\n"
     ]
    }
   ],
   "source": [
    "#Accessing Elements in a List\\\n",
    "print(lists[1])"
   ]
  },
  {
   "cell_type": "code",
   "execution_count": 7,
   "metadata": {},
   "outputs": [
    {
     "name": "stdout",
     "output_type": "stream",
     "text": [
      "['Mount Everest', 'Matterhorn', 'K2', 'Mountains of Banff', 'Mount Huang']\n"
     ]
    }
   ],
   "source": [
    "#Changing.element.in.a.list\n",
    "lists[4]=\"Mount Huang\"\n",
    "print(lists)"
   ]
  },
  {
   "cell_type": "code",
   "execution_count": 9,
   "metadata": {},
   "outputs": [
    {
     "name": "stdout",
     "output_type": "stream",
     "text": [
      "['Mount Everest', 'Matterhorn', 'K2', 'Mountains of Banff', 'Mount Huang', 'Amphitheatre, Drakensberg', 'Amphitheatre, Drakensberg']\n"
     ]
    }
   ],
   "source": [
    "#Adding Elements to a List\n",
    "lists.append(\"Amphitheatre, Drakensberg\")\n",
    "print(lists)"
   ]
  },
  {
   "cell_type": "code",
   "execution_count": 10,
   "metadata": {},
   "outputs": [
    {
     "name": "stdout",
     "output_type": "stream",
     "text": [
      "['Mount Everest', 'Mount Huang', 'Matterhorn', 'K2', 'Mountains of Banff', 'Mount Huang', 'Amphitheatre, Drakensberg', 'Amphitheatre, Drakensberg']\n"
     ]
    }
   ],
   "source": [
    "#Inserting Elements into a List\n",
    "lists.insert(1,\"Mount Huang\")\n",
    "print(lists)"
   ]
  },
  {
   "cell_type": "code",
   "execution_count": 12,
   "metadata": {},
   "outputs": [
    {
     "name": "stdout",
     "output_type": "stream",
     "text": [
      "['Mount Everest', 'Mount Huang', 'Matterhorn', 'K2', 'Mountains of Banff', 'Mount Huang', 'Amphitheatre, Drakensberg']\n"
     ]
    }
   ],
   "source": [
    "#Removing an Item Using the del Statement\n",
    "del lists[6]\n",
    "print(lists)"
   ]
  },
  {
   "cell_type": "code",
   "execution_count": 13,
   "metadata": {},
   "outputs": [
    {
     "name": "stdout",
     "output_type": "stream",
     "text": [
      "Amphitheatre, Drakensberg this is a removing item from lists\n",
      "['Mount Everest', 'Mount Huang', 'Matterhorn', 'K2', 'Mountains of Banff', 'Mount Huang']\n"
     ]
    }
   ],
   "source": [
    "#Removing an Item Using the pop() Method\n",
    "popped_list=lists.pop()\n",
    "print(f\"{popped_list} this is a removing item from lists\")\n",
    "print(lists)"
   ]
  },
  {
   "cell_type": "code",
   "execution_count": 15,
   "metadata": {},
   "outputs": [
    {
     "name": "stdout",
     "output_type": "stream",
     "text": [
      "this is a first_owned popped_item ({popping_item})\n",
      "['Mount Huang', 'Matterhorn', 'K2', 'Mountains of Banff', 'Mount Huang']\n"
     ]
    }
   ],
   "source": [
    "#Popping Items from any Position in a List\n",
    "popping_item=lists.pop(0)\n",
    "print(\"this is a first_owned popped_item ({popping_item})\")\n",
    "print(lists)"
   ]
  },
  {
   "cell_type": "code",
   "execution_count": 23,
   "metadata": {},
   "outputs": [
    {
     "name": "stdout",
     "output_type": "stream",
     "text": [
      "['Mount Huang', 'Matterhorn', 'K2', 'Mountains of Banff', 'Mount Huang']\n"
     ]
    }
   ],
   "source": [
    "print(lists)"
   ]
  },
  {
   "cell_type": "code",
   "execution_count": null,
   "metadata": {},
   "outputs": [],
   "source": [
    "#Removing an Item by Value\n",
    "lists.remove('K2')"
   ]
  },
  {
   "cell_type": "code",
   "execution_count": 26,
   "metadata": {},
   "outputs": [
    {
     "name": "stdout",
     "output_type": "stream",
     "text": [
      "['Mount Huang', 'Matterhorn', 'Mountains of Banff', 'Mount Huang']\n"
     ]
    }
   ],
   "source": [
    "print(lists)"
   ]
  },
  {
   "cell_type": "code",
   "execution_count": 29,
   "metadata": {},
   "outputs": [
    {
     "name": "stdout",
     "output_type": "stream",
     "text": [
      "['Mount Huang', 'Matterhorn', 'Mount Huang']\n"
     ]
    }
   ],
   "source": [
    "mountain=\"Mountains of Banff\"\n",
    "lists.remove(mountain)\n",
    "print(lists)"
   ]
  },
  {
   "cell_type": "code",
   "execution_count": 31,
   "metadata": {},
   "outputs": [
    {
     "name": "stdout",
     "output_type": "stream",
     "text": [
      "['Matterhorn', 'Mount Huang', 'Mount Huang']\n"
     ]
    }
   ],
   "source": [
    "#Sorting a List Permanently with the sort() Method\n",
    "lists.sort()\n",
    "print(lists)"
   ]
  },
  {
   "cell_type": "code",
   "execution_count": 35,
   "metadata": {},
   "outputs": [
    {
     "name": "stdout",
     "output_type": "stream",
     "text": [
      "['Mount Huang', 'Mount Huang', 'Matterhorn']\n"
     ]
    }
   ],
   "source": [
    "#list.reverse\n",
    "lists.sort(reverse=True)\n",
    "print(lists)"
   ]
  },
  {
   "cell_type": "code",
   "execution_count": 36,
   "metadata": {},
   "outputs": [
    {
     "name": "stdout",
     "output_type": "stream",
     "text": [
      "['Matterhorn', 'Mount Huang', 'Mount Huang']\n"
     ]
    }
   ],
   "source": [
    "print(sorted(lists))"
   ]
  },
  {
   "cell_type": "code",
   "execution_count": 38,
   "metadata": {},
   "outputs": [
    {
     "name": "stdout",
     "output_type": "stream",
     "text": [
      "['Mount Huang', 'Mount Huang', 'Matterhorn']\n"
     ]
    }
   ],
   "source": [
    "#chronological.order.reverse\n",
    "lists.reverse()\n",
    "print(lists)"
   ]
  },
  {
   "cell_type": "code",
   "execution_count": 39,
   "metadata": {},
   "outputs": [
    {
     "data": {
      "text/plain": [
       "3"
      ]
     },
     "execution_count": 39,
     "metadata": {},
     "output_type": "execute_result"
    }
   ],
   "source": [
    "#Finding the Length of a List\n",
    "len(lists)"
   ]
  },
  {
   "cell_type": "code",
   "execution_count": null,
   "metadata": {},
   "outputs": [],
   "source": []
  }
 ],
 "metadata": {
  "kernelspec": {
   "display_name": "Python 3",
   "language": "python",
   "name": "python3"
  },
  "language_info": {
   "codemirror_mode": {
    "name": "ipython",
    "version": 3
   },
   "file_extension": ".py",
   "mimetype": "text/x-python",
   "name": "python",
   "nbconvert_exporter": "python",
   "pygments_lexer": "ipython3",
   "version": "3.7.1"
  }
 },
 "nbformat": 4,
 "nbformat_minor": 2
}
