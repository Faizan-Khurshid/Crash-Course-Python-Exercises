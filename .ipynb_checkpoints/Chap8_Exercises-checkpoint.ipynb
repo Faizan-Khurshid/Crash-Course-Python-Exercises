{
 "cells": [
  {
   "cell_type": "markdown",
   "metadata": {},
   "source": [
    "**8-1. Message:** Write a function called display_message() that prints one sentence telling everyone what you are learning about in this chapter. Call the\n",
    "function, and make sure the message displays correctly"
   ]
  },
  {
   "cell_type": "code",
   "execution_count": 1,
   "metadata": {},
   "outputs": [
    {
     "name": "stdout",
     "output_type": "stream",
     "text": [
      "I am learning about functions\n"
     ]
    }
   ],
   "source": [
    "def display_message():\n",
    "    print(\"I am learning about functions\")\n",
    "\n",
    "display_message()"
   ]
  },
  {
   "cell_type": "markdown",
   "metadata": {},
   "source": [
    "**8-2. Favorite Book:** Write a function called favorite_book() that accepts one\n",
    "parameter, title. The function should print a message, such as One of my\n",
    "favorite books is Alice in Wonderland. Call the function, making sure to\n",
    "include a book title as an argument in the function call."
   ]
  },
  {
   "cell_type": "code",
   "execution_count": 2,
   "metadata": {},
   "outputs": [
    {
     "name": "stdout",
     "output_type": "stream",
     "text": [
      "One of my favourite books is Rich Dad Poor Dad\n"
     ]
    }
   ],
   "source": [
    "def favorite_book(title):\n",
    "    print(f\"One of my favourite books is {title}\")\n",
    "\n",
    "favorite_book(\"Rich Dad Poor Dad\")"
   ]
  },
  {
   "cell_type": "markdown",
   "metadata": {},
   "source": [
    "**8-3. T-Shirt:** Write a function called make_shirt() that accepts a size and the\n",
    "text of a message that should be printed on the shirt. The function should print\n",
    "a sentence summarizing the size of the shirt and the message printed on it.\n",
    "Call the function once using positional arguments to make a shirt. Call the\n",
    "function a second time using keyword arguments."
   ]
  },
  {
   "cell_type": "code",
   "execution_count": 3,
   "metadata": {},
   "outputs": [
    {
     "name": "stdout",
     "output_type": "stream",
     "text": [
      "A shirt is in production pipeline of small size and \"Saylani Gang\" will be printed on it \n",
      "A shirt is in production pipeline of medium size and \"AI practioners\" will be printed on it \n"
     ]
    }
   ],
   "source": [
    "def make_shirt(size, text_to_print):\n",
    "    print(f\"A shirt is in production pipeline of {size} size and \\\"{text_to_print}\\\" will be printed on it \")\n",
    "make_shirt(\"small\", \"Saylani Gang\")\n",
    "make_shirt(text_to_print=\"AI practioners\", size=\"medium\")"
   ]
  },
  {
   "cell_type": "markdown",
   "metadata": {},
   "source": [
    "**8-4. Large Shirts:** Modify the make_shirt() function so that shirts are large\n",
    "by default with a message that reads I love Python. Make a large shirt and a\n",
    "medium shirt with the default message, and a shirt of any size with a different\n",
    "message"
   ]
  },
  {
   "cell_type": "code",
   "execution_count": 4,
   "metadata": {},
   "outputs": [],
   "source": [
    "def make_shirt(text_to_print=\"I love Python\", size=\"large\"):\n",
    "    print(f\"A shirt is in production pipeline of size {size} and \\\"{text_to_print}\\\" will be printed on it \")"
   ]
  },
  {
   "cell_type": "code",
   "execution_count": 5,
   "metadata": {},
   "outputs": [
    {
     "name": "stdout",
     "output_type": "stream",
     "text": [
      "A shirt is in production pipeline of size large and \"I love Python\" will be printed on it \n",
      "A shirt is in production pipeline of size medium and \"I love Python\" will be printed on it \n",
      "A shirt is in production pipeline of size large and \"I love Data Science\" will be printed on it \n"
     ]
    }
   ],
   "source": [
    "make_shirt()\n",
    "make_shirt(size=\"medium\")\n",
    "make_shirt(text_to_print=\"I love Data Science\")"
   ]
  },
  {
   "cell_type": "markdown",
   "metadata": {},
   "source": [
    "**8-5. Cities:** Write a function called describe_city() that accepts the name of\n",
    "a city and its country. The function should print a simple sentence, such as\n",
    "Reykjavik is in Iceland. Give the parameter for the country a default value.\n",
    "Call your function for three different cities, at least one of which is not in the\n",
    "default country"
   ]
  },
  {
   "cell_type": "code",
   "execution_count": 6,
   "metadata": {},
   "outputs": [],
   "source": [
    "def describe_city(city, country=\"Pakistan\"):\n",
    "    print(f\"{city} is in {country}\")"
   ]
  },
  {
   "cell_type": "code",
   "execution_count": 7,
   "metadata": {},
   "outputs": [
    {
     "name": "stdout",
     "output_type": "stream",
     "text": [
      "Karachi is in Pakistan\n",
      "New York is in Pakistan\n",
      "Berlin is in Germany\n"
     ]
    }
   ],
   "source": [
    "describe_city(\"Karachi\")\n",
    "describe_city(\"New York\")\n",
    "describe_city(\"Berlin\", \"Germany\")"
   ]
  },
  {
   "cell_type": "markdown",
   "metadata": {},
   "source": [
    "**8-6. City Names:** Write a function called city_country() that takes in the name\n",
    "of a city and its country. The function should return a string formatted like this:<br>\n",
    "\"Santiago, Chile\"<br>\n",
    "Call your function with at least three city-country pairs, and print the value\n",
    "that’s returned."
   ]
  },
  {
   "cell_type": "code",
   "execution_count": 9,
   "metadata": {},
   "outputs": [
    {
     "name": "stdout",
     "output_type": "stream",
     "text": [
      "Karachi, Pakistan\n",
      "Berlin, Germany\n",
      "Istanbul, Turkey\n"
     ]
    }
   ],
   "source": [
    "def city_country(city, country):\n",
    "    return f\"{city}, {country}\"\n",
    "print(city_country(\"Karachi\", \"Pakistan\"))\n",
    "print(city_country(\"Berlin\", \"Germany\"))\n",
    "print(city_country(\"Istanbul\", \"Turkey\"))"
   ]
  },
  {
   "cell_type": "markdown",
   "metadata": {},
   "source": [
    "**8-7. Album:** Write a function called make_album() that builds a dictionary\n",
    "describing a music album. The function should take in an artist name and an\n",
    "album title, and it should return a dictionary containing these two pieces of\n",
    "information. Use the function to make three dictionaries representing different\n",
    "albums. Print each return value to show that the dictionaries are storing the\n",
    "album information correctly.\n",
    "Add an optional parameter to make_album() that allows you to store the\n",
    "number of tracks on an album. If the calling line includes a value for the number of tracks, add that value to the album’s dictionary. Make at least one new\n",
    "function call that includes the number of tracks on an album."
   ]
  },
  {
   "cell_type": "code",
   "execution_count": 10,
   "metadata": {},
   "outputs": [],
   "source": [
    "def make_album(artist_name, album_title):\n",
    "    return {\"artist_name\": artist_name, \"album_title\": album_title}"
   ]
  },
  {
   "cell_type": "code",
   "execution_count": 11,
   "metadata": {},
   "outputs": [],
   "source": [
    "album1 = make_album(\"Anderson\", \"abc\")\n",
    "album2 = make_album(\"Micheal\", \"abc\")\n",
    "album3 = make_album(\"mike\", \"abc\")"
   ]
  },
  {
   "cell_type": "code",
   "execution_count": 12,
   "metadata": {},
   "outputs": [
    {
     "name": "stdout",
     "output_type": "stream",
     "text": [
      "{'artist_name': 'Anderson', 'album_title': 'abc'}\n",
      "{'artist_name': 'Micheal', 'album_title': 'abc'}\n",
      "{'artist_name': 'mike', 'album_title': 'abc'}\n"
     ]
    }
   ],
   "source": [
    "print(album1, album2, album3, sep=\"\\n\")"
   ]
  },
  {
   "cell_type": "code",
   "execution_count": 13,
   "metadata": {},
   "outputs": [],
   "source": [
    "def make_album(artist_name, album_title, n_tracks=0):\n",
    "    album = {\"artist_name\": artist_name.title(), \"album_title\": album_title.title()}\n",
    "    if n_tracks:\n",
    "        album['number of tracks'] = n_tracks\n",
    "    return album"
   ]
  },
  {
   "cell_type": "code",
   "execution_count": 14,
   "metadata": {},
   "outputs": [],
   "source": [
    "album4 = make_album(\"Anderson\", \"abc\", 3)\n",
    "album5 = make_album(\"Micheal\", \"abc\", 2)\n",
    "album6 = make_album(\"mike\", \"abc\")"
   ]
  },
  {
   "cell_type": "code",
   "execution_count": 15,
   "metadata": {},
   "outputs": [
    {
     "name": "stdout",
     "output_type": "stream",
     "text": [
      "{'artist_name': 'Anderson', 'album_title': 'Abc', 'number of tracks': 3}\n",
      "{'artist_name': 'Micheal', 'album_title': 'Abc', 'number of tracks': 2}\n",
      "{'artist_name': 'Mike', 'album_title': 'Abc'}\n"
     ]
    }
   ],
   "source": [
    "print(album4, album5, album6, sep=\"\\n\")"
   ]
  },
  {
   "cell_type": "markdown",
   "metadata": {},
   "source": [
    "**8-8. User Albums:** Start with your program from Exercise 8-7. Write a while\n",
    "loop that allows users to enter an album’s artist and title. Once you have that\n",
    "information, call make_album() with the user’s input and print the dictionary\n",
    "that’s created. Be sure to include a quit value in the while loop.\n"
   ]
  },
  {
   "cell_type": "code",
   "execution_count": 16,
   "metadata": {},
   "outputs": [
    {
     "name": "stdout",
     "output_type": "stream",
     "text": [
      "\n",
      "Enter Artist Name: Anderson\n",
      "Enter album title: Abc\n",
      "{'artist_name': 'Anderson', 'album_title': 'Abc'}\n",
      "Do you want to contniue(y/n)y\n",
      "\n",
      "Enter Artist Name: Mike\n",
      "Enter album title: Abc\n",
      "{'artist_name': 'Mike', 'album_title': 'Abc'}\n",
      "Do you want to contniue(y/n)n\n"
     ]
    }
   ],
   "source": [
    "quit = False\n",
    "while not(quit):\n",
    "    artist_name = input(\"\\nEnter Artist Name: \")\n",
    "    album_title = input(\"Enter album title: \")\n",
    "    print(make_album(artist_name, album_title))\n",
    "    cont = input(\"Do you want to contniue(y/n)\")\n",
    "    if cont.lower() == \"n\":\n",
    "        quit = True"
   ]
  },
  {
   "cell_type": "markdown",
   "metadata": {},
   "source": [
    "**8-9. Magicians:** Make a list of magician’s names. Pass the list to a function\n",
    "called show_magicians(), which prints the name of each magician in the list."
   ]
  },
  {
   "cell_type": "code",
   "execution_count": 17,
   "metadata": {},
   "outputs": [],
   "source": [
    "magicians = [\"magician1\", \"magician2\", \"magician3\", \"magician4\"]"
   ]
  },
  {
   "cell_type": "code",
   "execution_count": 18,
   "metadata": {},
   "outputs": [],
   "source": [
    "def show_magicians(magicians):\n",
    "    for magician in magicians:\n",
    "        print(magician)"
   ]
  },
  {
   "cell_type": "code",
   "execution_count": 19,
   "metadata": {},
   "outputs": [
    {
     "name": "stdout",
     "output_type": "stream",
     "text": [
      "magician1\n",
      "magician2\n",
      "magician3\n",
      "magician4\n"
     ]
    }
   ],
   "source": [
    "show_magicians(magicians)"
   ]
  },
  {
   "cell_type": "markdown",
   "metadata": {},
   "source": [
    "**8-10. Great Magicians:** Start with a copy of your program from Exercise 8-9.\n",
    "Write a function called make_great() that modifies the list of magicians by adding the phrase the Great to each magician’s name. Call show_magicians() to\n",
    "see that the list has actually been modified."
   ]
  },
  {
   "cell_type": "code",
   "execution_count": 20,
   "metadata": {},
   "outputs": [],
   "source": [
    "def make_great(magicians):\n",
    "    modified_magicians = [f\"the Great {magician}\" for magician in magicians]\n",
    "    show_magicians(modified_magicians)"
   ]
  },
  {
   "cell_type": "code",
   "execution_count": 21,
   "metadata": {},
   "outputs": [
    {
     "name": "stdout",
     "output_type": "stream",
     "text": [
      "the Great magician1\n",
      "the Great magician2\n",
      "the Great magician3\n",
      "the Great magician4\n"
     ]
    }
   ],
   "source": [
    "make_great(magicians)"
   ]
  },
  {
   "cell_type": "markdown",
   "metadata": {},
   "source": [
    "**8-12. Sandwiches:** Write a function that accepts a list of items a person wants\n",
    "on a sandwich. The function should have one parameter that collects as many\n",
    "items as the function call provides, and it should print a summary of the sandwich that is being ordered. Call the function three times, using a different number of arguments each time."
   ]
  },
  {
   "cell_type": "code",
   "execution_count": 22,
   "metadata": {},
   "outputs": [],
   "source": [
    "def make_sandwich(items):\n",
    "    print(\"A sandwich having following items:\")\n",
    "    for item in items:\n",
    "        print(item)"
   ]
  },
  {
   "cell_type": "code",
   "execution_count": 24,
   "metadata": {},
   "outputs": [
    {
     "name": "stdout",
     "output_type": "stream",
     "text": [
      "A sandwich having following items:\n",
      "kabab\n",
      "ketchup\n",
      "\n",
      "\n",
      "A sandwich having following items:\n",
      "kabab\n",
      "ketchup\n",
      "chatni\n",
      "\n",
      "\n",
      "A sandwich having following items:\n",
      "kabab\n",
      "ketchup\n",
      "tomato\n",
      "kheera\n"
     ]
    }
   ],
   "source": [
    "make_sandwich([\"kabab\", \"ketchup\"])\n",
    "print(\"\\n\")\n",
    "make_sandwich([\"kabab\", \"ketchup\", \"chatni\"])\n",
    "print(\"\\n\")\n",
    "make_sandwich([\"kabab\", \"ketchup\", \"tomato\", \"kheera\"])"
   ]
  },
  {
   "cell_type": "markdown",
   "metadata": {},
   "source": [
    "**8-13. User Profile:** Start with a copy of user_profile.py from page 153. Build\n",
    "a profile of yourself by calling build_profile(), using your first and last names\n",
    "and three other key-value pairs that describe you."
   ]
  },
  {
   "cell_type": "code",
   "execution_count": 26,
   "metadata": {},
   "outputs": [
    {
     "name": "stdout",
     "output_type": "stream",
     "text": [
      "{'first_name': 'Faizan', 'last_name': 'Khurshid', 'location': 'Karachi', 'field': 'Computer Systems'}\n"
     ]
    }
   ],
   "source": [
    "def build_profile(first, last, **user_info):\n",
    "    \"\"\"Build a dictionary containing everything we know about a user.\"\"\"\n",
    "    profile = {}\n",
    "    profile['first_name'] = first\n",
    "    profile['last_name'] = last\n",
    "    for key, value in user_info.items():\n",
    "        profile[key] = value\n",
    "    return profile\n",
    "\n",
    "user_profile = build_profile('Faizan', 'Khurshid',\n",
    " location='Karachi',\n",
    " field='Computer Systems')\n",
    "print(user_profile)"
   ]
  },
  {
   "cell_type": "markdown",
   "metadata": {},
   "source": [
    "**8-14. Cars:** Write a function that stores information about a car in a dictionary. The function should always receive a manufacturer and a model name. It\n",
    "should then accept an arbitrary number of keyword arguments. Call the function with the required information and two other name-value pairs, such as a\n",
    "color or an optional feature. Your function should work for a call like this one:\n",
    "car = make_car('subaru', 'outback', color='blue', tow_package=True)\n",
    "Print the dictionary that’s returned to make sure all the information was\n",
    "stored correctly."
   ]
  },
  {
   "cell_type": "code",
   "execution_count": 28,
   "metadata": {},
   "outputs": [
    {
     "name": "stdout",
     "output_type": "stream",
     "text": [
      "{'manufacturer': 'subaru', 'model': 'outback', 'color': 'blue', 'tow_package': True}\n"
     ]
    }
   ],
   "source": [
    "def make_car(manufacturer, model, **car_info):\n",
    "    car = {}\n",
    "    car[\"manufacturer\"] = manufacturer\n",
    "    car[\"model\"] = model\n",
    "    for k,v in car_info.items():\n",
    "        car[k] = v\n",
    "    return car\n",
    "\n",
    "car = make_car('subaru', 'outback', color='blue', tow_package=True)\n",
    "print(car)"
   ]
  }
 ],
 "metadata": {
  "kernelspec": {
   "display_name": "Python 3",
   "language": "python",
   "name": "python3"
  },
  "language_info": {
   "codemirror_mode": {
    "name": "ipython",
    "version": 3
   },
   "file_extension": ".py",
   "mimetype": "text/x-python",
   "name": "python",
   "nbconvert_exporter": "python",
   "pygments_lexer": "ipython3",
   "version": "3.7.1"
  }
 },
 "nbformat": 4,
 "nbformat_minor": 2
}
