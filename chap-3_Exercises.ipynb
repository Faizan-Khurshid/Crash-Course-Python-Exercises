{
 "cells": [
  {
   "cell_type": "markdown",
   "metadata": {},
   "source": [
    "**3-1. Names:** Store the names of a few of your friends in a list called names. Print\n",
    "each person’s name by accessing each element in the list, one at a time."
   ]
  },
  {
   "cell_type": "code",
   "execution_count": 1,
   "metadata": {},
   "outputs": [],
   "source": [
    "friends = [\"Moiz\", \"Abdullah\", \"Rizwan\", \"Ubaid\", \"Ali\"]"
   ]
  },
  {
   "cell_type": "code",
   "execution_count": 65,
   "metadata": {},
   "outputs": [
    {
     "name": "stdout",
     "output_type": "stream",
     "text": [
      "Moiz\n",
      "Abdullah\n",
      "Rizwan\n",
      "Ubaid\n",
      "Ali\n"
     ]
    }
   ],
   "source": [
    "print(friends[0])\n",
    "print(friends[1])\n",
    "print(friends[2])\n",
    "print(friends[3])\n",
    "print(friends[4])"
   ]
  },
  {
   "cell_type": "markdown",
   "metadata": {},
   "source": [
    "**3-2. Greetings:** Start with the list you used in Exercise 3-1, but instead of just\n",
    "printing each person’s name, print a message to them. The text of each message should be the same, but each message should be personalized with the\n",
    "person’s name."
   ]
  },
  {
   "cell_type": "code",
   "execution_count": 3,
   "metadata": {},
   "outputs": [
    {
     "name": "stdout",
     "output_type": "stream",
     "text": [
      "Welcome, Moiz\n",
      "Welcome, Abdullah\n",
      "Welcome, Rizwan\n",
      "Welcome, Ubaid\n",
      "Welcome, Ali\n"
     ]
    }
   ],
   "source": [
    "for friend in friends:\n",
    "    print(f\"Welcome, {friend}\")"
   ]
  },
  {
   "cell_type": "markdown",
   "metadata": {},
   "source": [
    "**3-3. Your Own List:** Think of your favorite mode of transportation, such as a\n",
    "motorcycle or a car, and make a list that stores several examples. Use your list\n",
    "to print a series of statements about these items, such as “I would like to own a\n",
    "Honda motorcycle.”"
   ]
  },
  {
   "cell_type": "code",
   "execution_count": 4,
   "metadata": {},
   "outputs": [],
   "source": [
    "cars = [\"Corolla\", \"Civic\", \"Vitz\", \"Audi\", \"BMW\"]"
   ]
  },
  {
   "cell_type": "code",
   "execution_count": 5,
   "metadata": {},
   "outputs": [
    {
     "name": "stdout",
     "output_type": "stream",
     "text": [
      "I would like to gift someone a Corolla\n",
      "I would like to gift someone a Civic\n",
      "I would like to gift someone a Vitz\n",
      "I would like to gift someone a Audi\n",
      "I would like to gift someone a BMW\n"
     ]
    }
   ],
   "source": [
    "for car in cars:\n",
    "    print(f\"I would like to gift someone a {car}\")"
   ]
  },
  {
   "cell_type": "markdown",
   "metadata": {},
   "source": [
    "**3-4. Guest List:** If you could invite anyone, living or deceased, to dinner, who\n",
    "would you invite? Make a list that includes at least three people you’d like to\n",
    "invite to dinner. Then use your list to print a message to each person, inviting\n",
    "them to dinner."
   ]
  },
  {
   "cell_type": "code",
   "execution_count": 49,
   "metadata": {},
   "outputs": [],
   "source": [
    "guests = [\"Hasan\", \"Ali\", \"Moiz\"]"
   ]
  },
  {
   "cell_type": "code",
   "execution_count": 66,
   "metadata": {},
   "outputs": [
    {
     "name": "stdout",
     "output_type": "stream",
     "text": [
      "Hasan, be my guest at dinner tommorow\n",
      "Ali, be my guest at dinner tommorow\n",
      "Moiz, be my guest at dinner tommorow\n"
     ]
    }
   ],
   "source": [
    "for guest in guests:\n",
    "    print(f\"{guest.title()}, be my guest at dinner tommorow\")"
   ]
  },
  {
   "cell_type": "markdown",
   "metadata": {},
   "source": [
    "**3-5. Changing Guest List:** You just heard that one of your guests can’t make the\n",
    "dinner, so you need to send out a new set of invitations. You’ll have to think of\n",
    "someone else to invite.\n",
    "- Start with your program from Exercise 3-4. Add a print statement at the end of your program stating the name of the guest who can’t make it.\n",
    "- Modify your list, replacing the name of the guest who can’t make it with the name of the new person you are inviting.\n",
    "- Print a second set of invitation messages, one for each person who is still in your list."
   ]
  },
  {
   "cell_type": "code",
   "execution_count": 51,
   "metadata": {},
   "outputs": [
    {
     "name": "stdout",
     "output_type": "stream",
     "text": [
      "Hasan will not be able to come for dinner\n",
      "\n",
      "New invitations are: \n",
      "Abdullah, be my guest at dinner tommorow\n",
      "Ali, be my guest at dinner tommorow\n",
      "Moiz, be my guest at dinner tommorow\n"
     ]
    }
   ],
   "source": [
    "print(\"Hasan will not be able to come for dinner\\n\")\n",
    "guests[guests.index(\"Hasan\")] = \"Abdullah\"\n",
    "# guests.remove(\"Hasan\")\n",
    "# del guests[0]\n",
    "# guests.pop(0)\n",
    "print(\"New invitations are: \")\n",
    "for guest in guests:\n",
    "    print(f\"{guest}, be my guest at dinner tommorow\")"
   ]
  },
  {
   "cell_type": "markdown",
   "metadata": {},
   "source": [
    "**3-6. More Guests:** You just found a bigger dinner table, so now more space is\n",
    "available. Think of three more guests to invite to dinner.\n",
    "- Start with your program from Exercise 3-4 or Exercise 3-5. Add a print statement to the end of your program informing people that you found a bigger dinner table.\n",
    "- Use insert() to add one new guest to the beginning of your list.\n",
    "- Use insert() to add one new guest to the middle of your list.\n",
    "- Use append() to add one new guest to the end of your list.\n",
    "- Print a new set of invitation messages, one for each person in your list."
   ]
  },
  {
   "cell_type": "code",
   "execution_count": 52,
   "metadata": {},
   "outputs": [
    {
     "name": "stdout",
     "output_type": "stream",
     "text": [
      "Since we have found a bigger table, we can invite three more guests\n",
      "\n",
      "Moiz, be my guest at dinner\n",
      "Abdullah, be my guest at dinner\n",
      "Rizwan, be my guest at dinner\n",
      "Ubaid, be my guest at dinner\n",
      "Ali, be my guest at dinner\n"
     ]
    }
   ],
   "source": [
    "print(\"Since we have found a bigger table, we can invite three more guests\\n\")\n",
    "guests.insert(0, \"Ubaid\")\n",
    "guests.insert(len(guests)//2, \"Rizwan\")\n",
    "guests.append(\"Abdul Rafay\")\n",
    "for friend in friends:\n",
    "    print(f\"{friend}, be my guest at dinner\")"
   ]
  },
  {
   "cell_type": "markdown",
   "metadata": {},
   "source": [
    "**3-7. Shrinking Guest List:** You just found out that your new dinner table won’t arrive in time for the dinner, and you have space for only two guests.\n",
    "- Start with your program from Exercise 3-6. Add a new line that prints a message saying that you can invite only two people for dinner.\n",
    "- Use pop() to remove guests from your list one at a time until only two names remain in your list. Each time you pop a name from your list, print a message to that person letting them know you’re sorry you can’t invite them to dinner.\n",
    "- Print a message to each of the two people still on your list, letting them know they’re still invited.\n",
    "- Use del to remove the last two names from your list, so you have an empty list. Print your list to make sure you actually have an empty list at the end of your program."
   ]
  },
  {
   "cell_type": "code",
   "execution_count": 53,
   "metadata": {},
   "outputs": [
    {
     "name": "stdout",
     "output_type": "stream",
     "text": [
      "Bad news, we lost the table. Now we can invite only two guests\n",
      "\n",
      "Sorry to tell you Abdul Rafay that I won't be able to invite you at dinner. Better luck next time😉\n",
      "Sorry to tell you Moiz that I won't be able to invite you at dinner. Better luck next time😉\n",
      "Sorry to tell you Ali that I won't be able to invite you at dinner. Better luck next time😉\n",
      "Sorry to tell you Rizwan that I won't be able to invite you at dinner. Better luck next time😉\n",
      "\n",
      "\n",
      "Ubaid bro you are still on my guest list\n",
      "Abdullah bro you are still on my guest list\n"
     ]
    },
    {
     "data": {
      "text/plain": [
       "[]"
      ]
     },
     "execution_count": 53,
     "metadata": {},
     "output_type": "execute_result"
    }
   ],
   "source": [
    "print(\"Bad news, we lost the table. Now we can invite only two guests\\n\")\n",
    "while len(guests) > 2:\n",
    "    refused_guest = guests.pop()\n",
    "    print(f\"Sorry to tell you {refused_guest} that I won't be able to invite you at dinner. Better luck next time😉\")\n",
    "print(\"\\n\")\n",
    "for guest in guests:\n",
    "    print(f\"{guest} bro you are still on my guest list\")\n",
    "del guests[-1]\n",
    "del guests[-1]\n",
    "guests"
   ]
  },
  {
   "cell_type": "markdown",
   "metadata": {},
   "source": [
    "**3-8. Seeing the World:** Think of at least five places in the world you’d like to visit.\n",
    "- Store the locations in a list. Make sure the list is not in alphabetical order.\n",
    "- Print your list in its original order. Don’t worry about printing the list neatly, just print it as a raw Python list.\n",
    "- Use sorted() to print your list in alphabetical order without modifying the actual list.\n",
    "- Show that your list is still in its original order by printing it.\n",
    "- Use sorted() to print your list in reverse alphabetical order without changing the order of the original list.\n",
    "- Show that your list is still in its original order by printing it again.\n",
    "- Use reverse() to change the order of your list. Print the list to show that its order has changed.\n",
    "- Use reverse() to change the order of your list again. Print the list to show it’s back to its original order.\n",
    "- Use sort() to change your list so it’s stored in alphabetical order. Print the list to show that its order has been changed.\n",
    "- Use sort() to change your list so it’s stored in reverse alphabetical order. Print the list to show that its order has changed."
   ]
  },
  {
   "cell_type": "code",
   "execution_count": 54,
   "metadata": {},
   "outputs": [],
   "source": [
    "locations = [\"Kashmir\", \"Paris\", \"London\", \"Rio\", \"Switzerland\"]"
   ]
  },
  {
   "cell_type": "code",
   "execution_count": 55,
   "metadata": {},
   "outputs": [
    {
     "name": "stdout",
     "output_type": "stream",
     "text": [
      "original ['Kashmir', 'Paris', 'London', 'Rio', 'Switzerland']\n",
      "sorted() ['Kashmir', 'London', 'Paris', 'Rio', 'Switzerland']\n",
      "original ['Kashmir', 'Paris', 'London', 'Rio', 'Switzerland']\n",
      "sorted() reveresed ['Switzerland', 'Rio', 'Paris', 'London', 'Kashmir']\n",
      "original ['Kashmir', 'Paris', 'London', 'Rio', 'Switzerland']\n",
      ".reverse() ['Switzerland', 'Rio', 'London', 'Paris', 'Kashmir']\n",
      "again .reverse() ['Kashmir', 'Paris', 'London', 'Rio', 'Switzerland']\n",
      ".sort() ['Kashmir', 'London', 'Paris', 'Rio', 'Switzerland']\n",
      ".sort(reverse=True) ['Switzerland', 'Rio', 'Paris', 'London', 'Kashmir']\n"
     ]
    }
   ],
   "source": [
    "print(\"original\", locations)\n",
    "print(\"sorted()\", sorted(locations))\n",
    "print(\"original\", locations)\n",
    "print(\"sorted() reveresed\", sorted(locations, reverse=True))\n",
    "print(\"original\", locations)\n",
    "locations.reverse()\n",
    "print(\".reverse()\", locations)\n",
    "locations.reverse()\n",
    "print(\"again .reverse()\", locations)\n",
    "locations.sort()\n",
    "print(\".sort()\", locations)\n",
    "locations.sort(reverse=True)\n",
    "print(\".sort(reverse=True)\", locations)"
   ]
  },
  {
   "cell_type": "markdown",
   "metadata": {},
   "source": [
    "**3-9. Dinner Guests:** Working with one of the programs from Exercises 3-4\n",
    "through 3-7 (page 46), use len() to print a message indicating the number\n",
    "of people you are inviting to dinner."
   ]
  },
  {
   "cell_type": "code",
   "execution_count": 56,
   "metadata": {},
   "outputs": [
    {
     "name": "stdout",
     "output_type": "stream",
     "text": [
      "3 people are invited to dinner\n"
     ]
    }
   ],
   "source": [
    "guests = [\"Hasan\", \"Ali\", \"Moiz\"]\n",
    "print(f\"{len(guests)} people are invited to dinner\")"
   ]
  },
  {
   "cell_type": "markdown",
   "metadata": {},
   "source": [
    "**3-10. Every Function:** Think of something you could store in a list. For example,\n",
    "you could make a list of mountains, rivers, countries, cities, languages, or anything else you’d like. Write a program that creates a list containing these items\n",
    "and then uses each function introduced in this chapter at least once."
   ]
  },
  {
   "cell_type": "code",
   "execution_count": 60,
   "metadata": {},
   "outputs": [],
   "source": [
    "people = ['Ubaid', 'Hasan', 'Rizwan', 'Ali', 'Moiz', 'Abdul Rafay']"
   ]
  },
  {
   "cell_type": "code",
   "execution_count": 61,
   "metadata": {},
   "outputs": [
    {
     "name": "stdout",
     "output_type": "stream",
     "text": [
      "Faizan appended ['Ubaid', 'Hasan', 'Rizwan', 'Ali', 'Moiz', 'Abdul Rafay', 'Faizan']\n",
      "copy of people ['Ubaid', 'Hasan', 'Rizwan', 'Ali', 'Moiz', 'Abdul Rafay', 'Faizan']\n",
      "count of Ubaid 1\n",
      "extended by 'Extend' ['Ubaid', 'Hasan', 'Rizwan', 'Ali', 'Moiz', 'Abdul Rafay', 'Faizan', 'E', 'x', 't', 'e', 'n', 'd']\n",
      "index of 'Ali' 3\n",
      "inserted 'Sir Nasir' at 0 ['Sir Nasir', 'Ubaid', 'Hasan', 'Rizwan', 'Ali', 'Moiz', 'Abdul Rafay', 'Faizan', 'E', 'x', 't', 'e', 'n', 'd']\n",
      "pop ['Sir Nasir', 'Ubaid', 'Hasan', 'Rizwan', 'Ali', 'Moiz', 'Abdul Rafay', 'Faizan', 'E', 'x', 't', 'e', 'n']\n",
      "Hasan removed ['Sir Nasir', 'Ubaid', 'Rizwan', 'Ali', 'Moiz', 'Abdul Rafay', 'Faizan', 'E', 'x', 't', 'e', 'n']\n",
      ".reverse() ['n', 'e', 't', 'x', 'E', 'Faizan', 'Abdul Rafay', 'Moiz', 'Ali', 'Rizwan', 'Ubaid', 'Sir Nasir']\n",
      ".sort() ['Abdul Rafay', 'Ali', 'E', 'Faizan', 'Moiz', 'Rizwan', 'Sir Nasir', 'Ubaid', 'e', 'n', 't', 'x']\n"
     ]
    }
   ],
   "source": [
    "people.append(\"Faizan\")\n",
    "print(\"Faizan appended\", people)\n",
    "people_copy = people.copy()\n",
    "print(\"copy of people\", people_copy)\n",
    "print(\"count of Ubaid\", people.count(\"Hasan\"))\n",
    "people.extend(\"Extend\")\n",
    "print(\"extended by 'Extend'\", people)\n",
    "print(\"index of 'Ali'\", people.index(\"Ali\"))\n",
    "people.insert(0, \"Sir Nasir\")\n",
    "print(\"inserted 'Sir Nasir' at 0\", people)\n",
    "people.pop()\n",
    "print(\"pop\", people)\n",
    "people.remove(\"Hasan\")\n",
    "print(\"Hasan removed\", people)\n",
    "people.reverse()\n",
    "print(\".reverse()\", people)\n",
    "people.sort()\n",
    "print(\".sort()\", people)"
   ]
  },
  {
   "cell_type": "markdown",
   "metadata": {},
   "source": [
    "**3-11. Intentional Error:** If you haven’t received an index error in one of your\n",
    "programs yet, try to make one happen. Change an index in one of your programs to produce an index error. Make sure you correct the error before closing the program."
   ]
  },
  {
   "cell_type": "code",
   "execution_count": 63,
   "metadata": {},
   "outputs": [
    {
     "data": {
      "text/plain": [
       "'Abdul Rafay'"
      ]
     },
     "execution_count": 63,
     "metadata": {},
     "output_type": "execute_result"
    }
   ],
   "source": [
    "people = ['Ubaid', 'Hasan', 'Rizwan', 'Ali', 'Moiz', 'Abdul Rafay']\n",
    "# people[90] gives error, instead use [-1]\n",
    "people[-1]"
   ]
  },
  {
   "cell_type": "code",
   "execution_count": null,
   "metadata": {},
   "outputs": [],
   "source": []
  }
 ],
 "metadata": {
  "kernelspec": {
   "display_name": "Python 3",
   "language": "python",
   "name": "python3"
  },
  "language_info": {
   "codemirror_mode": {
    "name": "ipython",
    "version": 3
   },
   "file_extension": ".py",
   "mimetype": "text/x-python",
   "name": "python",
   "nbconvert_exporter": "python",
   "pygments_lexer": "ipython3",
   "version": "3.7.1"
  }
 },
 "nbformat": 4,
 "nbformat_minor": 2
}
