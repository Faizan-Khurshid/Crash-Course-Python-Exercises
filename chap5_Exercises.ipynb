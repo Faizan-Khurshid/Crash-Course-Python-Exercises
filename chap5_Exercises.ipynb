{
 "cells": [
  {
   "cell_type": "markdown",
   "metadata": {},
   "source": [
    "**5-1. Conditional Tests:** Write a series of conditional tests. Print a statement\n",
    "describing each test and your prediction for the results of each test. Your code\n",
    "should look something like this:"
   ]
  },
  {
   "cell_type": "code",
   "execution_count": 3,
   "metadata": {},
   "outputs": [
    {
     "name": "stdout",
     "output_type": "stream",
     "text": [
      "Is car == 'subaru'? I predict True.\n",
      "True\n",
      "\n",
      "Is car == 'audi'? I predict False.\n",
      "False\n",
      "\n",
      "Is car == 'Corolla'? I predict False.\n",
      "False\n",
      "\n",
      "Is car == 'Civic'? I predict False.\n",
      "False\n",
      "\n",
      "Is car == 'Vitz'? I predict False.\n",
      "True\n",
      "\n",
      "Is car == 'Ferrari'? I predict False.\n",
      "True\n",
      "\n",
      "Is car == 'Swift'? I predict False.\n",
      "False\n",
      "\n",
      "Is car == 'Accord'? I predict False.\n",
      "True\n",
      "\n",
      "Is car == 'Mazda'? I predict False.\n",
      "True\n"
     ]
    }
   ],
   "source": [
    "car = 'subaru'\n",
    "print(\"Is car == 'subaru'? I predict True.\")\n",
    "print(car == 'subaru')\n",
    "print(\"\\nIs car == 'audi'? I predict False.\")\n",
    "print(car == 'audi')\n",
    "print(\"\\nIs car == 'Corolla'? I predict False.\")\n",
    "print(car == 'Corolla')\n",
    "print(\"\\nIs car == 'Civic'? I predict False.\")\n",
    "print(car == 'Civic')\n",
    "car = 'Vitz'\n",
    "print(\"\\nIs car == 'Vitz'? I predict False.\")\n",
    "print(car == 'Vitz')\n",
    "car = 'Ferrari'\n",
    "print(\"\\nIs car == 'Ferrari'? I predict False.\")\n",
    "print(car == 'Ferrari')\n",
    "car = 'swift'\n",
    "print(\"\\nIs car == 'Swift'? I predict False.\")\n",
    "print(car == 'Swift')\n",
    "car = 'Accord'\n",
    "print(\"\\nIs car == 'Accord'? I predict False.\")\n",
    "print(car == 'Accord')\n",
    "car = 'Mazda'\n",
    "print(\"\\nIs car == 'Mazda'? I predict False.\")\n",
    "print(car == 'Mazda')"
   ]
  },
  {
   "cell_type": "markdown",
   "metadata": {},
   "source": [
    "**5-2. More Conditional Tests:** You don’t have to limit the number of tests you\n",
    "create to 10. If you want to try more comparisons, write more tests and add\n",
    "them to conditional_tests.py. Have at least one True and one False result for\n",
    "each of the following:\n",
    "- Tests for equality and inequality with strings\n",
    "- Tests using the lower() function\n",
    "- Numerical tests involving equality and inequality, greater than and less than, greater than or equal to, and less than or equal to\n",
    "- Tests using the and keyword and the or keyword\n",
    "- Test whether an item is in a list\n",
    "- Test whether an item is not in a list"
   ]
  },
  {
   "cell_type": "code",
   "execution_count": 5,
   "metadata": {},
   "outputs": [
    {
     "name": "stdout",
     "output_type": "stream",
     "text": [
      "False True\n",
      "True False\n",
      "False True True False False True\n",
      "False\n",
      "True\n",
      "True False\n",
      "False True\n"
     ]
    }
   ],
   "source": [
    "print(\"Faizan\" == \"FAIZAN\", \"Faizan\" != \"FAIZAN\")\n",
    "print(\"Faizan\".lower() == \"FAIZAN\".lower(), \"Faizan\".lower() != \"FAIZAN\".lower())\n",
    "print(5 == 4, 5 != 4, 5 > 4, 5 < 4, 5 <= 4, 5 >= 4)\n",
    "print(5 == 4 and 5 != 4 and 5 > 4 and 5 < 4 and 5 <= 4 and 5 >= 4)\n",
    "print(5 == 4 or 5 != 4 or 5 > 4 or 5 < 4 or 5 <= 4 or 5 >= 4)\n",
    "my_list = [\"laptop\", \"mouse\", \"keyboard\"]\n",
    "print(\"mouse\" in my_list, \"usb\" in my_list)\n",
    "print(\"mouse\" not in my_list, \"usb\" not in my_list)"
   ]
  },
  {
   "cell_type": "markdown",
   "metadata": {},
   "source": [
    "**5-3. Alien Colors #1:** Imagine an alien was just shot down in a game. Create a\n",
    "variable called alien_color and assign it a value of 'green', 'yellow', or 'red'.\n",
    "- Write an if statement to test whether the alien’s color is green. If it is, print\n",
    "a message that the player just earned 5 points.\n",
    "- Write one version of this program that passes the if test and another that\n",
    "fails. (The version that fails will have no output.)"
   ]
  },
  {
   "cell_type": "code",
   "execution_count": 6,
   "metadata": {},
   "outputs": [
    {
     "name": "stdout",
     "output_type": "stream",
     "text": [
      "You earned 5 points\n"
     ]
    }
   ],
   "source": [
    "alien_color = \"green\"\n",
    "if alien_color == \"green\":\n",
    "    print(\"You earned 5 points\")\n",
    "\n",
    "alien_color = \"yellow\"\n",
    "if alien_color == \"green\":\n",
    "    print(\"You earned 5 points\")"
   ]
  },
  {
   "cell_type": "markdown",
   "metadata": {},
   "source": [
    "**5-4. Alien Colors #2:** Choose a color for an alien as you did in Exercise 5-3, and\n",
    "write an if-else chain.\n",
    "- If the alien’s color is green, print a statement that the player just earned 5 points for shooting the alien.\n",
    "- If the alien’s color isn’t green, print a statement that the player just earned 10 points.\n",
    "- Write one version of this program that runs the if block and another that runs the else block."
   ]
  },
  {
   "cell_type": "code",
   "execution_count": 7,
   "metadata": {},
   "outputs": [
    {
     "name": "stdout",
     "output_type": "stream",
     "text": [
      "You earned 5 points\n",
      "You earned 10 points\n"
     ]
    }
   ],
   "source": [
    "alien_color = \"green\"\n",
    "if alien_color == \"green\":\n",
    "    print(\"You earned 5 points\")\n",
    "else:\n",
    "    print(\"You earned 10 points\")\n",
    "    \n",
    "alien_color = \"yellow\"\n",
    "if alien_color == \"green\":\n",
    "    print(\"You earned 5 points\")\n",
    "else:\n",
    "    print(\"You earned 10 points\")\n",
    "    "
   ]
  },
  {
   "cell_type": "markdown",
   "metadata": {},
   "source": [
    "**5-5. Alien Colors #3:** Turn your if-else chain from Exercise 5-4 into an if-elifelse chain.\n",
    "- If the alien is green, print a message that the player earned 5 points.\n",
    "- If the alien is yellow, print a message that the player earned 10 points.\n",
    "- If the alien is red, print a message that the player earned 15 points.\n",
    "- Write three versions of this program, making sure each message is printed for the appropriate color alien."
   ]
  },
  {
   "cell_type": "code",
   "execution_count": 8,
   "metadata": {},
   "outputs": [
    {
     "name": "stdout",
     "output_type": "stream",
     "text": [
      "You earned 5 points\n",
      "You earned 10 points\n",
      "You earned 15 points\n"
     ]
    }
   ],
   "source": [
    "alien_color = \"green\"\n",
    "if alien_color == \"green\":\n",
    "    print(\"You earned 5 points\")\n",
    "elif alien_color == \"yellow\":\n",
    "    print(\"You earned 10 points\")\n",
    "elif alien_color == \"red\":\n",
    "    print(\"You earned 15 points\")\n",
    "\n",
    "alien_color = \"yellow\"\n",
    "if alien_color == \"green\":\n",
    "    print(\"You earned 5 points\")\n",
    "elif alien_color == \"yellow\":\n",
    "    print(\"You earned 10 points\")\n",
    "elif alien_color == \"red\":\n",
    "    print(\"You earned 15 points\")\n",
    "\n",
    "alien_color = \"red\"\n",
    "if alien_color == \"green\":\n",
    "    print(\"You earned 5 points\")\n",
    "elif alien_color == \"yellow\":\n",
    "    print(\"You earned 10 points\")\n",
    "elif alien_color == \"red\":\n",
    "    print(\"You earned 15 points\")"
   ]
  },
  {
   "cell_type": "markdown",
   "metadata": {},
   "source": [
    "**5-6. Stages of Life:** Write an if-elif-else chain that determines a person’s\n",
    "stage of life. Set a value for the variable age, and then:\n",
    "- If the person is less than 2 years old, print a message that the person is a baby.\n",
    "- If the person is at least 2 years old but less than 4, print a message that the person is a toddler.\n",
    "- If the person is at least 4 years old but less than 13, print a message that the person is a kid.\n",
    "- If the person is at least 13 years old but less than 20, print a message that the person is a teenager.\n",
    "- If the person is at least 20 years old but less than 65, print a message that the person is an adult.\n",
    "- If the person is age 65 or older, print a message that the person is an elder."
   ]
  },
  {
   "cell_type": "code",
   "execution_count": 9,
   "metadata": {},
   "outputs": [
    {
     "name": "stdout",
     "output_type": "stream",
     "text": [
      "adult\n"
     ]
    }
   ],
   "source": [
    "age = 20\n",
    "if age < 2:\n",
    "    print(\"baby\")\n",
    "elif age >= 2 and age < 4:\n",
    "    print(\"toddler\")\n",
    "elif age >= 4 and age < 13:\n",
    "    print(\"kid\")\n",
    "elif age >= 13 and age < 20:\n",
    "    print(\"teenager\")\n",
    "elif age >= 20 and age < 65:\n",
    "    print(\"adult\")\n",
    "else:\n",
    "    print(\"edler\")"
   ]
  },
  {
   "cell_type": "markdown",
   "metadata": {},
   "source": [
    "**5-7. Favorite Fruit:** Make a list of your favorite fruits, and then write a series of\n",
    "independent if statements that check for certain fruits in your list.\n",
    "- Make a list of your three favorite fruits and call it favorite_fruits.\n",
    "- Write five if statements. Each should check whether a certain kind of fruit\n",
    "is in your list. If the fruit is in your list, the if block should print a statement,\n",
    "such as You really like bananas!\n"
   ]
  },
  {
   "cell_type": "code",
   "execution_count": 11,
   "metadata": {},
   "outputs": [
    {
     "name": "stdout",
     "output_type": "stream",
     "text": [
      "you really like banana\n",
      "you really like cheeku\n",
      "you really like mango\n"
     ]
    }
   ],
   "source": [
    "favorite_fruits = [\"banana\", \"cheeku\", \"mango\"]\n",
    "if \"banana\" in favorite_fruits:\n",
    "    print(\"you really like banana\")\n",
    "if \"cheeku\" in favorite_fruits:\n",
    "    print(\"you really like cheeku\")\n",
    "if \"mango\" in favorite_fruits:\n",
    "    print(\"you really like mango\")\n",
    "if \"water melon\" in favorite_fruits:\n",
    "    print(\"you really like water melon\")\n",
    "if \"apple\" in favorite_fruits:\n",
    "    print(\"you really like apple\")"
   ]
  },
  {
   "cell_type": "markdown",
   "metadata": {},
   "source": [
    "**5-8. Hello Admin:** Make a list of five or more usernames, including the name\n",
    "'admin'. Imagine you are writing code that will print a greeting to each user\n",
    "after they log in to a website. Loop through the list, and print a greeting to\n",
    "each user:\n",
    "- If the username is 'admin', print a special greeting, such as Hello admin,\n",
    "would you like to see a status report?\n",
    "- Otherwise, print a generic greeting, such as Hello Eric, thank you for logging in again."
   ]
  },
  {
   "cell_type": "code",
   "execution_count": 12,
   "metadata": {},
   "outputs": [
    {
     "name": "stdout",
     "output_type": "stream",
     "text": [
      "Hello admin, would you like to see a status report\n",
      "Hello Faizan, thank you for logging in again\n",
      "Hello Moiz, thank you for logging in again\n",
      "Hello Rizwan, thank you for logging in again\n",
      "Hello Ubaid, thank you for logging in again\n",
      "Hello Abdullah, thank you for logging in again\n"
     ]
    }
   ],
   "source": [
    "usernames = [\"admin\", \"Faizan\", \"Moiz\", \"Rizwan\", \"Ubaid\", \"Abdullah\"]\n",
    "for username in usernames:\n",
    "    if username != \"admin\":\n",
    "        print(f\"Hello {username}, thank you for logging in again\")\n",
    "    else:\n",
    "        print(\"Hello admin, would you like to see a status report\")"
   ]
  },
  {
   "cell_type": "markdown",
   "metadata": {},
   "source": [
    "**5-9. No Users:** Add an if test to hello_admin.py to make sure the list of users is\n",
    "not empty.\n",
    "- If the list is empty, print the message We need to find some users!\n",
    "- Remove all of the usernames from your list, and make sure the correct message is printed."
   ]
  },
  {
   "cell_type": "code",
   "execution_count": 13,
   "metadata": {},
   "outputs": [
    {
     "name": "stdout",
     "output_type": "stream",
     "text": [
      "We need to find some users!\n"
     ]
    }
   ],
   "source": [
    "usernames = []\n",
    "if not usernames:\n",
    "    print(\"We need to find some users!\")\n",
    "for username in usernames:\n",
    "    if username != \"admin\":\n",
    "        print(f\"Hello {username}, thank you for logging in again\")\n",
    "    else:\n",
    "        print(\"Hello admin, would you like to see a status report\")"
   ]
  },
  {
   "cell_type": "markdown",
   "metadata": {},
   "source": [
    "**5-10. Checking Usernames:** Do the following to create a program that simulates\n",
    "how websites ensure that everyone has a unique username.\n",
    "- Make a list of five or more usernames called current_users.\n",
    "- Make another list of five usernames called new_users. Make sure one or two of the new usernames are also in the current_users list.\n",
    "- Loop through the new_users list to see if each new username has already been used. If it has, print a message that the person will need to enter a new username. If a username has not been used, print a message saying that the username is available.\n",
    "- Make sure your comparison is case insensitive. If 'John' has been used, 'JOHN' should not be accepted."
   ]
  },
  {
   "cell_type": "code",
   "execution_count": 15,
   "metadata": {},
   "outputs": [
    {
     "name": "stdout",
     "output_type": "stream",
     "text": [
      "Username available\n",
      "Username available\n",
      "Username already taken\n",
      "Username available\n",
      "Username already taken\n"
     ]
    }
   ],
   "source": [
    "current_users = [\"Faizan\", \"Moiz\", \"Rizwan\", \"Ubaid\", \"Abdullah\"]\n",
    "new_users = [\"Ali\", \"Hasan\", \"abdullah\", \"Hamza\", \"Ubaid\"]\n",
    "for user in new_users:\n",
    "    if user.title() not in current_users:\n",
    "        print(\"Username available\")\n",
    "    else:\n",
    "        print(\"Username already taken\")"
   ]
  },
  {
   "cell_type": "markdown",
   "metadata": {},
   "source": [
    "**5-11. Ordinal Numbers:** Ordinal numbers indicate their position in a list, such\n",
    "as 1st or 2nd. Most ordinal numbers end in th, except 1, 2, and 3.\n",
    "- Store the numbers 1 through 9 in a list.\n",
    "- Loop through the list.\n",
    "- Use an if-elif-else chain inside the loop to print the proper ordinal ending for each number. Your output should read \"1st 2nd 3rd 4th 5th 6th 7th 8th 9th\", and each result should be on a separate line."
   ]
  },
  {
   "cell_type": "code",
   "execution_count": 16,
   "metadata": {},
   "outputs": [
    {
     "name": "stdout",
     "output_type": "stream",
     "text": [
      "1st\n",
      "2nd\n",
      "3rd\n",
      "4th\n",
      "5th\n",
      "6th\n",
      "7th\n",
      "8th\n",
      "9th\n"
     ]
    }
   ],
   "source": [
    "nums = [i for i in range(1,10)]\n",
    "for num in nums:\n",
    "    if(num == 1):\n",
    "        print(\"1st\")\n",
    "    elif(num == 2):\n",
    "        print(\"2nd\")\n",
    "    elif(num == 3):\n",
    "        print(\"3rd\")\n",
    "    else:\n",
    "        print(f\"{num}th\")"
   ]
  },
  {
   "cell_type": "code",
   "execution_count": null,
   "metadata": {},
   "outputs": [],
   "source": []
  }
 ],
 "metadata": {
  "kernelspec": {
   "display_name": "Python 3",
   "language": "python",
   "name": "python3"
  },
  "language_info": {
   "codemirror_mode": {
    "name": "ipython",
    "version": 3
   },
   "file_extension": ".py",
   "mimetype": "text/x-python",
   "name": "python",
   "nbconvert_exporter": "python",
   "pygments_lexer": "ipython3",
   "version": "3.7.1"
  }
 },
 "nbformat": 4,
 "nbformat_minor": 2
}
